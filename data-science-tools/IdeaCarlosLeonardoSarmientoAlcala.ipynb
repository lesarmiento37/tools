{
 "cells": [
  {
   "cell_type": "code",
   "execution_count": 20,
   "id": "bf76aee0",
   "metadata": {},
   "outputs": [
    {
     "name": "stdout",
     "output_type": "stream",
     "text": [
      "   id                      name          username                      email  \\\n",
      "0   1             Leanne Graham              Bret          Sincere@april.biz   \n",
      "1   2              Ervin Howell         Antonette          Shanna@melissa.tv   \n",
      "2   3          Clementine Bauch          Samantha         Nathan@yesenia.net   \n",
      "3   4          Patricia Lebsack          Karianne  Julianne.OConner@kory.org   \n",
      "4   5          Chelsey Dietrich            Kamren   Lucio_Hettinger@annie.ca   \n",
      "5   6      Mrs. Dennis Schulist  Leopoldo_Corkery    Karley_Dach@jasper.info   \n",
      "6   7           Kurtis Weissnat      Elwyn.Skiles     Telly.Hoeger@billy.biz   \n",
      "7   8  Nicholas Runolfsdottir V     Maxime_Nienow       Sherwood@rosamond.me   \n",
      "8   9           Glenna Reichert          Delphine    Chaim_McDermott@dana.io   \n",
      "9  10        Clementina DuBuque    Moriah.Stanton     Rey.Padberg@karina.biz   \n",
      "\n",
      "                                             address                  phone  \\\n",
      "0  {'street': 'Kulas Light', 'suite': 'Apt. 556',...  1-770-736-8031 x56442   \n",
      "1  {'street': 'Victor Plains', 'suite': 'Suite 87...    010-692-6593 x09125   \n",
      "2  {'street': 'Douglas Extension', 'suite': 'Suit...         1-463-123-4447   \n",
      "3  {'street': 'Hoeger Mall', 'suite': 'Apt. 692',...      493-170-9623 x156   \n",
      "4  {'street': 'Skiles Walks', 'suite': 'Suite 351...          (254)954-1289   \n",
      "5  {'street': 'Norberto Crossing', 'suite': 'Apt....   1-477-935-8478 x6430   \n",
      "6  {'street': 'Rex Trail', 'suite': 'Suite 280', ...           210.067.6132   \n",
      "7  {'street': 'Ellsworth Summit', 'suite': 'Suite...      586.493.6943 x140   \n",
      "8  {'street': 'Dayna Park', 'suite': 'Suite 449',...   (775)976-6794 x41206   \n",
      "9  {'street': 'Kattie Turnpike', 'suite': 'Suite ...           024-648-3804   \n",
      "\n",
      "         website                                            company  \n",
      "0  hildegard.org  {'name': 'Romaguera-Crona', 'catchPhrase': 'Mu...  \n",
      "1  anastasia.net  {'name': 'Deckow-Crist', 'catchPhrase': 'Proac...  \n",
      "2    ramiro.info  {'name': 'Romaguera-Jacobson', 'catchPhrase': ...  \n",
      "3       kale.biz  {'name': 'Robel-Corkery', 'catchPhrase': 'Mult...  \n",
      "4   demarco.info  {'name': 'Keebler LLC', 'catchPhrase': 'User-c...  \n",
      "5        ola.org  {'name': 'Considine-Lockman', 'catchPhrase': '...  \n",
      "6       elvis.io  {'name': 'Johns Group', 'catchPhrase': 'Config...  \n",
      "7   jacynthe.com  {'name': 'Abernathy Group', 'catchPhrase': 'Im...  \n",
      "8     conrad.com  {'name': 'Yost and Sons', 'catchPhrase': 'Swit...  \n",
      "9    ambrose.net  {'name': 'Hoeger LLC', 'catchPhrase': 'Central...  \n"
     ]
    }
   ],
   "source": [
    "#Importar los datos directamente de la página\n",
    "import requests\n",
    "import json\n",
    "import pandas as pd\n",
    "url = 'https://jsonplaceholder.typicode.com/users'\n",
    "respuesta = requests.get(url)\n",
    "texto = respuesta.text\n",
    "jsondata = json.loads(texto)\n",
    "df = pd.DataFrame.from_dict(jsondata)\n",
    "print(df)"
   ]
  },
  {
   "cell_type": "code",
   "execution_count": 27,
   "id": "3ef8f4e7",
   "metadata": {},
   "outputs": [
    {
     "name": "stdout",
     "output_type": "stream",
     "text": [
      "['Kulas Light', 'Victor Plains', 'Douglas Extension', 'Hoeger Mall', 'Skiles Walks', 'Norberto Crossing', 'Rex Trail', 'Ellsworth Summit', 'Dayna Park', 'Kattie Turnpike']\n"
     ]
    }
   ],
   "source": [
    "#recolección datos de address\n",
    "address_street = []\n",
    "address_suite = []\n",
    "address_city = []\n",
    "address_zipcode = []\n",
    "address_geo_lat = []\n",
    "address_geo_lng = []\n",
    "for n in range(len(df)):\n",
    "    address_street.append(df['address'][n]['street'])\n",
    "    address_suite.append(df['address'][n]['suite'])\n",
    "    address_city.append(df['address'][n]['city'])\n",
    "    address_zipcode.append(df['address'][n]['zipcode'])\n",
    "    address_geo_lat.append(df['address'][n]['geo']['lat'])\n",
    "    address_geo_lng.append(df['address'][n]['geo']['lng'])\n",
    "print(address_street)"
   ]
  },
  {
   "cell_type": "code",
   "execution_count": 36,
   "id": "0cb67d95",
   "metadata": {},
   "outputs": [
    {
     "name": "stdout",
     "output_type": "stream",
     "text": [
      "<class 'list'>\n",
      "      address street address suite    address city address zipcode  \\\n",
      "0        Kulas Light      Apt. 556     Gwenborough      92998-3874   \n",
      "1      Victor Plains     Suite 879     Wisokyburgh      90566-7771   \n",
      "2  Douglas Extension     Suite 847   McKenziehaven      59590-4157   \n",
      "3        Hoeger Mall      Apt. 692     South Elvis      53919-4257   \n",
      "4       Skiles Walks     Suite 351      Roscoeview           33263   \n",
      "5  Norberto Crossing      Apt. 950   South Christy      23505-1337   \n",
      "6          Rex Trail     Suite 280       Howemouth      58804-1099   \n",
      "7   Ellsworth Summit     Suite 729       Aliyaview           45169   \n",
      "8         Dayna Park     Suite 449  Bartholomebury      76495-3109   \n",
      "9    Kattie Turnpike     Suite 198     Lebsackbury      31428-2261   \n",
      "\n",
      "  address geo lat address geo lng  \n",
      "0        -37.3159         81.1496  \n",
      "1        -43.9509        -34.4618  \n",
      "2        -68.6102        -47.0653  \n",
      "3         29.4572       -164.2990  \n",
      "4        -31.8129         62.5342  \n",
      "5        -71.4197         71.7478  \n",
      "6         24.8918         21.8984  \n",
      "7        -14.3990       -120.7677  \n",
      "8         24.6463       -168.8889  \n",
      "9        -38.2386         57.2232  \n"
     ]
    }
   ],
   "source": [
    "#conversion de listas a dataframes\n",
    "df_address_street = pd.DataFrame(address_street, columns = ['address street'])\n",
    "df_address_suite = pd.DataFrame(address_suite, columns=['address suite'])\n",
    "df_address_city = pd.DataFrame(address_city, columns=['address city'])\n",
    "df_address_zipcode = pd.DataFrame(address_zipcode, columns=['address zipcode'])\n",
    "df_address_geo_lat = pd.DataFrame(address_geo_lat, columns=['address geo lat'])\n",
    "df_address_geo_lng = pd.DataFrame(address_geo_lng, columns=['address geo lng'])\n",
    "df_address = pd.concat([df_address_street, df_address_suite ,df_address_city ,df_address_zipcode ,df_address_geo_lat, df_address_geo_lng], axis=1)\n",
    "print(df_address)"
   ]
  },
  {
   "cell_type": "code",
   "execution_count": 40,
   "id": "0f7a43d1",
   "metadata": {},
   "outputs": [
    {
     "name": "stdout",
     "output_type": "stream",
     "text": [
      "['Multi-layered client-server neural-net', 'Proactive didactic contingency', 'Face to face bifurcated interface', 'Multi-tiered zero tolerance productivity', 'User-centric fault-tolerant solution', 'Synchronised bottom-line interface', 'Configurable multimedia task-force', 'Implemented secondary concept', 'Switchable contextually-based project', 'Centralized empowering task-force']\n"
     ]
    }
   ],
   "source": [
    "#recolección datos de company\n",
    "company_name = []\n",
    "company_catchphrase = []\n",
    "company_bs = []\n",
    "for n in range(len(df)):\n",
    "    company_name.append(df['company'][n]['name'])\n",
    "    company_catchphrase.append(df['company'][n]['catchPhrase'])\n",
    "    company_bs.append(df['company'][n]['bs'])\n",
    "print(company_catchphrase)"
   ]
  },
  {
   "cell_type": "code",
   "execution_count": 42,
   "id": "1cbcd51b",
   "metadata": {},
   "outputs": [
    {
     "name": "stdout",
     "output_type": "stream",
     "text": [
      "         company name                       company catchphrase  \\\n",
      "0     Romaguera-Crona    Multi-layered client-server neural-net   \n",
      "1        Deckow-Crist            Proactive didactic contingency   \n",
      "2  Romaguera-Jacobson         Face to face bifurcated interface   \n",
      "3       Robel-Corkery  Multi-tiered zero tolerance productivity   \n",
      "4         Keebler LLC      User-centric fault-tolerant solution   \n",
      "5   Considine-Lockman        Synchronised bottom-line interface   \n",
      "6         Johns Group        Configurable multimedia task-force   \n",
      "7     Abernathy Group             Implemented secondary concept   \n",
      "8       Yost and Sons     Switchable contextually-based project   \n",
      "9          Hoeger LLC         Centralized empowering task-force   \n",
      "\n",
      "                             company bs  \n",
      "0           harness real-time e-markets  \n",
      "1      synergize scalable supply-chains  \n",
      "2       e-enable strategic applications  \n",
      "3  transition cutting-edge web services  \n",
      "4      revolutionize end-to-end systems  \n",
      "5      e-enable innovative applications  \n",
      "6         generate enterprise e-tailers  \n",
      "7         e-enable extensible e-tailers  \n",
      "8      aggregate real-time technologies  \n",
      "9              target end-to-end models  \n"
     ]
    }
   ],
   "source": [
    "#conversion de listas a dataframes\n",
    "df_company_name = pd.DataFrame(company_name, columns=['company name'])\n",
    "df_company_catchphrase = pd.DataFrame(company_catchphrase, columns=['company catchphrase'])\n",
    "df_company_bs = pd.DataFrame(company_bs, columns=['company bs'])\n",
    "df_company = pd.concat([df_company_name,df_company_catchphrase,df_company_bs], axis=1)\n",
    "print(df_company)"
   ]
  },
  {
   "cell_type": "code",
   "execution_count": 49,
   "id": "0d237cb4",
   "metadata": {},
   "outputs": [
    {
     "name": "stdout",
     "output_type": "stream",
     "text": [
      "                       name          username                      email  \\\n",
      "0             Leanne Graham              Bret          Sincere@april.biz   \n",
      "1              Ervin Howell         Antonette          Shanna@melissa.tv   \n",
      "2          Clementine Bauch          Samantha         Nathan@yesenia.net   \n",
      "3          Patricia Lebsack          Karianne  Julianne.OConner@kory.org   \n",
      "4          Chelsey Dietrich            Kamren   Lucio_Hettinger@annie.ca   \n",
      "5      Mrs. Dennis Schulist  Leopoldo_Corkery    Karley_Dach@jasper.info   \n",
      "6           Kurtis Weissnat      Elwyn.Skiles     Telly.Hoeger@billy.biz   \n",
      "7  Nicholas Runolfsdottir V     Maxime_Nienow       Sherwood@rosamond.me   \n",
      "8           Glenna Reichert          Delphine    Chaim_McDermott@dana.io   \n",
      "9        Clementina DuBuque    Moriah.Stanton     Rey.Padberg@karina.biz   \n",
      "\n",
      "      address street address suite    address city address zipcode  \\\n",
      "0        Kulas Light      Apt. 556     Gwenborough      92998-3874   \n",
      "1      Victor Plains     Suite 879     Wisokyburgh      90566-7771   \n",
      "2  Douglas Extension     Suite 847   McKenziehaven      59590-4157   \n",
      "3        Hoeger Mall      Apt. 692     South Elvis      53919-4257   \n",
      "4       Skiles Walks     Suite 351      Roscoeview           33263   \n",
      "5  Norberto Crossing      Apt. 950   South Christy      23505-1337   \n",
      "6          Rex Trail     Suite 280       Howemouth      58804-1099   \n",
      "7   Ellsworth Summit     Suite 729       Aliyaview           45169   \n",
      "8         Dayna Park     Suite 449  Bartholomebury      76495-3109   \n",
      "9    Kattie Turnpike     Suite 198     Lebsackbury      31428-2261   \n",
      "\n",
      "  address geo lat address geo lng                  phone        website  \\\n",
      "0        -37.3159         81.1496  1-770-736-8031 x56442  hildegard.org   \n",
      "1        -43.9509        -34.4618    010-692-6593 x09125  anastasia.net   \n",
      "2        -68.6102        -47.0653         1-463-123-4447    ramiro.info   \n",
      "3         29.4572       -164.2990      493-170-9623 x156       kale.biz   \n",
      "4        -31.8129         62.5342          (254)954-1289   demarco.info   \n",
      "5        -71.4197         71.7478   1-477-935-8478 x6430        ola.org   \n",
      "6         24.8918         21.8984           210.067.6132       elvis.io   \n",
      "7        -14.3990       -120.7677      586.493.6943 x140   jacynthe.com   \n",
      "8         24.6463       -168.8889   (775)976-6794 x41206     conrad.com   \n",
      "9        -38.2386         57.2232           024-648-3804    ambrose.net   \n",
      "\n",
      "         company name                       company catchphrase  \\\n",
      "0     Romaguera-Crona    Multi-layered client-server neural-net   \n",
      "1        Deckow-Crist            Proactive didactic contingency   \n",
      "2  Romaguera-Jacobson         Face to face bifurcated interface   \n",
      "3       Robel-Corkery  Multi-tiered zero tolerance productivity   \n",
      "4         Keebler LLC      User-centric fault-tolerant solution   \n",
      "5   Considine-Lockman        Synchronised bottom-line interface   \n",
      "6         Johns Group        Configurable multimedia task-force   \n",
      "7     Abernathy Group             Implemented secondary concept   \n",
      "8       Yost and Sons     Switchable contextually-based project   \n",
      "9          Hoeger LLC         Centralized empowering task-force   \n",
      "\n",
      "                             company bs  \n",
      "0           harness real-time e-markets  \n",
      "1      synergize scalable supply-chains  \n",
      "2       e-enable strategic applications  \n",
      "3  transition cutting-edge web services  \n",
      "4      revolutionize end-to-end systems  \n",
      "5      e-enable innovative applications  \n",
      "6         generate enterprise e-tailers  \n",
      "7         e-enable extensible e-tailers  \n",
      "8      aggregate real-time technologies  \n",
      "9              target end-to-end models  \n"
     ]
    }
   ],
   "source": [
    "#Se une el DataFrame\n",
    "first = df[['name','username','email']]\n",
    "second = df[['phone','website']]\n",
    "df_final = pd.concat([first,df_address,second,df_company],axis=1)\n",
    "print(df_final)"
   ]
  },
  {
   "cell_type": "code",
   "execution_count": null,
   "id": "84653575",
   "metadata": {},
   "outputs": [],
   "source": []
  }
 ],
 "metadata": {
  "kernelspec": {
   "display_name": "Python 3 (ipykernel)",
   "language": "python",
   "name": "python3"
  },
  "language_info": {
   "codemirror_mode": {
    "name": "ipython",
    "version": 3
   },
   "file_extension": ".py",
   "mimetype": "text/x-python",
   "name": "python",
   "nbconvert_exporter": "python",
   "pygments_lexer": "ipython3",
   "version": "3.9.7"
  }
 },
 "nbformat": 4,
 "nbformat_minor": 5
}
