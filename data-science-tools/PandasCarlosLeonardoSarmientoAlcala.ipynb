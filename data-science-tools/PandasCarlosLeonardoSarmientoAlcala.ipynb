{
 "cells": [
  {
   "cell_type": "code",
   "execution_count": 180,
   "id": "c275626c",
   "metadata": {
    "scrolled": true
   },
   "outputs": [
    {
     "name": "stdout",
     "output_type": "stream",
     "text": [
      "          City      Sport       Discipline           Event Gender  \\\n",
      "Year                                                                \n",
      "1976  Montreal   Aquatics           Diving  3m springboard  Women   \n",
      "1976  Montreal   Aquatics           Diving  3m springboard    Men   \n",
      "1976  Montreal   Aquatics           Diving  3m springboard    Men   \n",
      "1976  Montreal   Aquatics           Diving  3m springboard    Men   \n",
      "1976  Montreal   Aquatics           Diving    10m platform  Women   \n",
      "...        ...        ...              ...             ...    ...   \n",
      "2008   Beijing  Wrestling  Wrestling Gre-R       66 - 74kg    Men   \n",
      "2008   Beijing  Wrestling  Wrestling Gre-R       66 - 74kg    Men   \n",
      "2008   Beijing  Wrestling  Wrestling Gre-R       55 - 60kg    Men   \n",
      "2008   Beijing  Wrestling  Wrestling Gre-R       60 - 66kg    Men   \n",
      "2008   Beijing  Wrestling  Wrestling Gre-R      96 - 120kg    Men   \n",
      "\n",
      "     Country_Code        Country Event_gender   Medal Athlete Last Name  \\\n",
      "Year                                                                      \n",
      "1976          GDR   East Germany            W  Silver            KÖHLER   \n",
      "1976          URS   Soviet Union            M  Bronze          KOSENKOV   \n",
      "1976          USA  United States            M    Gold             BOGGS   \n",
      "1976          ITA          Italy            M  Silver          CAGNOTTO   \n",
      "1976          USA  United States            W  Bronze            WILSON   \n",
      "...           ...            ...          ...     ...               ...   \n",
      "2008          FRA         France            M  Bronze            GUENOT   \n",
      "2008          GEO        Georgia            M    Gold         KVIRKELIA   \n",
      "2008          AZE     Azerbaijan            M  Silver           RAHIMOV   \n",
      "2008          FRA         France            M    Gold            GUENOT   \n",
      "2008          CUB           Cuba            M    Gold             LOPEZ   \n",
      "\n",
      "         Athlete Name  \n",
      "Year                   \n",
      "1976          Christa  \n",
      "1976        Aleksandr  \n",
      "1976    Philip George  \n",
      "1976   Giorgio Franco  \n",
      "1976   Deborah Keplar  \n",
      "...               ...  \n",
      "2008       Christophe  \n",
      "2008         Manuchar  \n",
      "2008          Vitaliy  \n",
      "2008           Steeve  \n",
      "2008           Mijain  \n",
      "\n",
      "[15316 rows x 11 columns]\n"
     ]
    }
   ],
   "source": [
    "import numpy as np\n",
    "import pandas as pd\n",
    "data = pd.read_csv(r\"C:\\Users\\lesar\\projects\\coderhouse\\summer.csv\", sep=',' ,encoding='latin-1')\n",
    "data2 = data.dropna(subset=['Year'])\n",
    "data3 = data2['Year'].astype(int)\n",
    "#Se convierte a serie de tiempo\n",
    "data4 = pd.to_datetime(data3, format='%Y%m', errors='ignore')\n",
    "df_data = data2.set_index(data4)\n",
    "df_data2 = df_data.drop(columns =['Year'])\n",
    "df_dataf = df_data[\"Athlete\"].str.split(\",\", n = 1, expand = True)\n",
    "df_data2[\"Athlete Last Name\"] = df_dataf[0]\n",
    "df_data2[\"Athlete Name\"] = df_dataf[1]\n",
    "df_data2.drop(columns =[\"Athlete\"], inplace = True)\n",
    "print(df_data2)\n"
   ]
  },
  {
   "cell_type": "raw",
   "id": "547ba8d0",
   "metadata": {},
   "source": [
    "\n"
   ]
  },
  {
   "cell_type": "code",
   "execution_count": 181,
   "id": "05a69881",
   "metadata": {},
   "outputs": [
    {
     "name": "stdout",
     "output_type": "stream",
     "text": [
      "           City     Sport Discipline   Event Gender Country_Code  \\\n",
      "count     15316     15316      15316   15316  15316        15316   \n",
      "unique        9        28         41     293      2          128   \n",
      "top     Beijing  Aquatics  Athletics  hockey    Men          USA   \n",
      "freq       2042      2210       1523     817   9388         1992   \n",
      "\n",
      "              Country Event_gender   Medal Athlete Last Name Athlete Name  \n",
      "count           15316        15316   15316             15316        15223  \n",
      "unique            127            3       3              8930         5587  \n",
      "top     United States            M  Bronze               KIM     Vladimir  \n",
      "freq             1992         8817    5258               103          113  \n"
     ]
    }
   ],
   "source": [
    "#print descripción General\n",
    "df_describe = df_data2.describe()\n",
    "print(df_describe)"
   ]
  },
  {
   "cell_type": "code",
   "execution_count": 182,
   "id": "f5da6e73",
   "metadata": {},
   "outputs": [
    {
     "name": "stdout",
     "output_type": "stream",
     "text": [
      "United States      1992\n",
      "Soviet Union       1021\n",
      "Australia           798\n",
      "Germany             691\n",
      "China               679\n",
      "                   ... \n",
      "Cote d'Ivoire         1\n",
      "Djibouti              1\n",
      "Senegal               1\n",
      "Virgin Islands*       1\n",
      "Afghanistan           1\n",
      "Name: Country, Length: 127, dtype: int64\n"
     ]
    }
   ],
   "source": [
    "#Se imprime el numero de medallas obtenidas por país\n",
    "print(df_data2['Country'].value_counts())"
   ]
  },
  {
   "cell_type": "code",
   "execution_count": 183,
   "id": "216a6b35",
   "metadata": {},
   "outputs": [
    {
     "name": "stdout",
     "output_type": "stream",
     "text": [
      "2000    1126\n",
      "2008    1110\n",
      "1992    1105\n",
      "2004    1099\n",
      "1996    1082\n",
      "1988    1011\n",
      "1984     973\n",
      "1980     958\n",
      "1976     924\n",
      "Name: Year, dtype: int64\n"
     ]
    }
   ],
   "source": [
    "#Se imprimen las medallas obtenidas por los hombres\n",
    "df_hombres= df_data2.loc[df_data2['Gender'] == 'Men']\n",
    "df_men = df_hombres.index.value_counts()\n",
    "print(df_men)\n",
    "                    "
   ]
  },
  {
   "cell_type": "code",
   "execution_count": 1,
   "id": "6937a90b",
   "metadata": {},
   "outputs": [
    {
     "name": "stdout",
     "output_type": "stream",
     "text": [
      "1\n",
      "1\n",
      "2\n",
      "3\n",
      "5\n",
      "8\n",
      "13\n",
      "21\n",
      "34\n",
      "55\n",
      "89\n"
     ]
    }
   ],
   "source": [
    "a,b=0,1\n",
    "while b < 100:\n",
    "        print(b)\n",
    "        a,b=b,a+b"
   ]
  },
  {
   "cell_type": "code",
   "execution_count": null,
   "id": "53aaf645",
   "metadata": {},
   "outputs": [],
   "source": []
  }
 ],
 "metadata": {
  "kernelspec": {
   "display_name": "Python 3 (ipykernel)",
   "language": "python",
   "name": "python3"
  },
  "language_info": {
   "codemirror_mode": {
    "name": "ipython",
    "version": 3
   },
   "file_extension": ".py",
   "mimetype": "text/x-python",
   "name": "python",
   "nbconvert_exporter": "python",
   "pygments_lexer": "ipython3",
   "version": "3.9.7"
  }
 },
 "nbformat": 4,
 "nbformat_minor": 5
}
