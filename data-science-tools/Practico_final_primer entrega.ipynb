{
 "cells": [
  {
   "cell_type": "markdown",
   "metadata": {
    "id": "hYDFGzefOT_S"
   },
   "source": [
    "## **Modelo  de Riesgo Crediticio**"
   ]
  },
  {
   "cell_type": "markdown",
   "metadata": {
    "id": "obC5c69qdrky"
   },
   "source": [
    "## **Objetivo**\n",
    "Se realizara  un modelo de riesgo crediticio basado en datos en Python para predecir las probabilidadesde incumplimiento (PD) y asignar puntajes crediticios a los prestatarios existentes o potenciales. \n",
    "\n",
    "Se determinarán los puntajes de crédito utilizando un cuadro de mando altamente interpretable, fácil de entender e implementar que hace que calcular el puntaje de crédito sea muy sencillo."
   ]
  },
  {
   "cell_type": "markdown",
   "metadata": {
    "id": "S7Qf3sfhSoRe"
   },
   "source": [
    "## **Universo**\n",
    "\n"
   ]
  },
  {
   "cell_type": "markdown",
   "metadata": {
    "id": "V3_yCqXvTnGi"
   },
   "source": [
    "Los datos sin procesar incluyen información sobre más de 450 000 préstamos de consumo emitidos entre 2007 y 2014 con casi 75 características, incluido el estado actual del préstamo y varios atributos relacionados con los prestatarios y su comportamiento de pago.\n",
    "Esta informacion la hemos extraido del siguiente **Kaggle**:>>>https://towardsdatascience.com/how-to-develop-a-credit-risk-model-and-scorecard-91335fc01f03\n",
    "\n",
    "\n",
    "El data set utilizado para la elaboracion del modelo de Riesgo Crediticio se encuentra en el siguiente **enlace**>>>> https://drive.google.com/file/d/1uW5U4ogQp17nFMBAhPr8iiaJBZdOnetM/view?usp=sharing\n",
    "\n",
    "La explicacion de las 75 variables se encuentra en el siguiente **diccionario**:\n",
    "\n",
    "https://docs.google.com/spreadsheets/d/1N05RNr2ajsTg9xXxebE6PPd2uzpEAzAF/edit?usp=sharing&ouid=106736825120722139781&rtpof=true&sd=true\n",
    "\n",
    "\n",
    "a los fines practicos solamente  se han traducido  las variables relevantes.\n",
    "\n",
    "\n",
    "La **resolucion final del Kaggle original** se encuentra en el siguienbte enlace:\n",
    "https://colab.research.google.com/github/finlytics-hub/credit_risk_model/blob/master/Credit_Risk_Model_and_Credit_Scorecard.ipynb\n",
    "\n",
    "se ha utilizado  este modelo como guia, sin embargo , el desarrollo del modelo de riesgo crediticio se  ha realizado siguiendo los pasos vistos  en clase."
   ]
  },
  {
   "cell_type": "markdown",
   "metadata": {
    "id": "3NfpB_qQUS-O"
   },
   "source": [
    "## **Tarea Realizada**\n",
    "Las tareas realziadas principalmente fueron:\n",
    "\n",
    "*   Importacion de librerias\n",
    "*   Data mining (Eliminacion de las variables rebundantes, tratamiento de las \n",
    "    variables categoricas, Nan, etc.)\n",
    "*   Determinacion de la variables a traves  del analisis Annova ( Analisis \n",
    "    Multivariado).\n",
    "*   Anaisis Univariados y bivariado sobre los features Obtenidos\n",
    "*   Particion del modelo en 70% y 30%\n",
    "*   Se utilizo los Algoritmos de  Arbol de Decision y Random Forest\n",
    "*   Conclusion=La utilizacion de estos modelos da como resultado un    \n",
    "    Overfifting,  se ajustara las variables  del modelo.\n",
    "\n",
    "\n",
    "\n",
    "\n",
    "\n",
    "\n",
    "\n",
    "\n",
    "\n",
    "\n",
    "\n",
    "\n",
    "\n",
    "\n"
   ]
  },
  {
   "cell_type": "markdown",
   "metadata": {
    "id": "PaJ6W7aOhf0V"
   },
   "source": [
    "### **Desarrollo del Modelo de Riesgo Crediticio**"
   ]
  },
  {
   "cell_type": "markdown",
   "metadata": {
    "id": "eGPoIskApp8U"
   },
   "source": []
  },
  {
   "cell_type": "code",
   "execution_count": 1,
   "metadata": {
    "id": "53K4no8jHrEG"
   },
   "outputs": [],
   "source": [
    "#Importamos las librerias\n",
    "import pandas as pd\n",
    "#import plotly.express as px\n",
    "%matplotlib inline\n",
    "#import pandas_profiling\n",
    "import seaborn as sns\n",
    "sns.set_style('darkgrid')\n",
    "import warnings\n",
    "warnings.filterwarnings('ignore')\n",
    "import numpy as np\n",
    "import matplotlib.pyplot as plt\n",
    "import seaborn as sns\n",
    "import matplotlib.style as style\n",
    "from seaborn import distplot\n",
    "#import missingno as msno\n",
    "from seaborn import distplot\n",
    "from seaborn import boxplot\n",
    "from seaborn import violinplot\n",
    "#from google.colab import drive\n",
    "from sklearn.tree import DecisionTreeClassifier,plot_tree\n",
    "#import missingno as msno\n",
    "import scipy.stats as stats"
   ]
  },
  {
   "cell_type": "code",
   "execution_count": 2,
   "metadata": {},
   "outputs": [],
   "source": [
    "#ruta_doc='C:/Users/vn52rr7/Desktop/personal/data science/practico final/loan_data_2007_2014.csv'\n",
    "ruta_doc='loan_data.csv'"
   ]
  },
  {
   "cell_type": "code",
   "execution_count": 3,
   "metadata": {
    "id": "trQSFELyzvQr"
   },
   "outputs": [],
   "source": [
    "#cargamos el data set\n",
    "tabla= pd.read_csv(ruta_doc,sep=',',encoding='latin-1')\n"
   ]
  },
  {
   "cell_type": "code",
   "execution_count": 4,
   "metadata": {
    "colab": {
     "base_uri": "https://localhost:8080/",
     "height": 386
    },
    "id": "fE5Skm78G9rg",
    "outputId": "94127b2d-1773-4e97-c18f-bb5fe564ef07"
   },
   "outputs": [
    {
     "data": {
      "text/html": [
       "<div>\n",
       "<style scoped>\n",
       "    .dataframe tbody tr th:only-of-type {\n",
       "        vertical-align: middle;\n",
       "    }\n",
       "\n",
       "    .dataframe tbody tr th {\n",
       "        vertical-align: top;\n",
       "    }\n",
       "\n",
       "    .dataframe thead th {\n",
       "        text-align: right;\n",
       "    }\n",
       "</style>\n",
       "<table border=\"1\" class=\"dataframe\">\n",
       "  <thead>\n",
       "    <tr style=\"text-align: right;\">\n",
       "      <th></th>\n",
       "      <th>id</th>\n",
       "      <th>member_id</th>\n",
       "      <th>loan_amnt</th>\n",
       "      <th>funded_amnt</th>\n",
       "      <th>funded_amnt_inv</th>\n",
       "      <th>term</th>\n",
       "      <th>int_rate</th>\n",
       "      <th>installment</th>\n",
       "      <th>grade</th>\n",
       "      <th>sub_grade</th>\n",
       "      <th>...</th>\n",
       "      <th>total_bal_il</th>\n",
       "      <th>il_util</th>\n",
       "      <th>open_rv_12m</th>\n",
       "      <th>open_rv_24m</th>\n",
       "      <th>max_bal_bc</th>\n",
       "      <th>all_util</th>\n",
       "      <th>total_rev_hi_lim</th>\n",
       "      <th>inq_fi</th>\n",
       "      <th>total_cu_tl</th>\n",
       "      <th>inq_last_12m</th>\n",
       "    </tr>\n",
       "  </thead>\n",
       "  <tbody>\n",
       "    <tr>\n",
       "      <th>0</th>\n",
       "      <td>1077501</td>\n",
       "      <td>1296599</td>\n",
       "      <td>5000</td>\n",
       "      <td>5000</td>\n",
       "      <td>4975.0</td>\n",
       "      <td>36 months</td>\n",
       "      <td>10.65</td>\n",
       "      <td>162.87</td>\n",
       "      <td>B</td>\n",
       "      <td>B2</td>\n",
       "      <td>...</td>\n",
       "      <td>NaN</td>\n",
       "      <td>NaN</td>\n",
       "      <td>NaN</td>\n",
       "      <td>NaN</td>\n",
       "      <td>NaN</td>\n",
       "      <td>NaN</td>\n",
       "      <td>NaN</td>\n",
       "      <td>NaN</td>\n",
       "      <td>NaN</td>\n",
       "      <td>NaN</td>\n",
       "    </tr>\n",
       "    <tr>\n",
       "      <th>1</th>\n",
       "      <td>1077430</td>\n",
       "      <td>1314167</td>\n",
       "      <td>2500</td>\n",
       "      <td>2500</td>\n",
       "      <td>2500.0</td>\n",
       "      <td>60 months</td>\n",
       "      <td>15.27</td>\n",
       "      <td>59.83</td>\n",
       "      <td>C</td>\n",
       "      <td>C4</td>\n",
       "      <td>...</td>\n",
       "      <td>NaN</td>\n",
       "      <td>NaN</td>\n",
       "      <td>NaN</td>\n",
       "      <td>NaN</td>\n",
       "      <td>NaN</td>\n",
       "      <td>NaN</td>\n",
       "      <td>NaN</td>\n",
       "      <td>NaN</td>\n",
       "      <td>NaN</td>\n",
       "      <td>NaN</td>\n",
       "    </tr>\n",
       "    <tr>\n",
       "      <th>2</th>\n",
       "      <td>1077175</td>\n",
       "      <td>1313524</td>\n",
       "      <td>2400</td>\n",
       "      <td>2400</td>\n",
       "      <td>2400.0</td>\n",
       "      <td>36 months</td>\n",
       "      <td>15.96</td>\n",
       "      <td>84.33</td>\n",
       "      <td>C</td>\n",
       "      <td>C5</td>\n",
       "      <td>...</td>\n",
       "      <td>NaN</td>\n",
       "      <td>NaN</td>\n",
       "      <td>NaN</td>\n",
       "      <td>NaN</td>\n",
       "      <td>NaN</td>\n",
       "      <td>NaN</td>\n",
       "      <td>NaN</td>\n",
       "      <td>NaN</td>\n",
       "      <td>NaN</td>\n",
       "      <td>NaN</td>\n",
       "    </tr>\n",
       "    <tr>\n",
       "      <th>3</th>\n",
       "      <td>1076863</td>\n",
       "      <td>1277178</td>\n",
       "      <td>10000</td>\n",
       "      <td>10000</td>\n",
       "      <td>10000.0</td>\n",
       "      <td>36 months</td>\n",
       "      <td>13.49</td>\n",
       "      <td>339.31</td>\n",
       "      <td>C</td>\n",
       "      <td>C1</td>\n",
       "      <td>...</td>\n",
       "      <td>NaN</td>\n",
       "      <td>NaN</td>\n",
       "      <td>NaN</td>\n",
       "      <td>NaN</td>\n",
       "      <td>NaN</td>\n",
       "      <td>NaN</td>\n",
       "      <td>NaN</td>\n",
       "      <td>NaN</td>\n",
       "      <td>NaN</td>\n",
       "      <td>NaN</td>\n",
       "    </tr>\n",
       "    <tr>\n",
       "      <th>4</th>\n",
       "      <td>1075358</td>\n",
       "      <td>1311748</td>\n",
       "      <td>3000</td>\n",
       "      <td>3000</td>\n",
       "      <td>3000.0</td>\n",
       "      <td>60 months</td>\n",
       "      <td>12.69</td>\n",
       "      <td>67.79</td>\n",
       "      <td>B</td>\n",
       "      <td>B5</td>\n",
       "      <td>...</td>\n",
       "      <td>NaN</td>\n",
       "      <td>NaN</td>\n",
       "      <td>NaN</td>\n",
       "      <td>NaN</td>\n",
       "      <td>NaN</td>\n",
       "      <td>NaN</td>\n",
       "      <td>NaN</td>\n",
       "      <td>NaN</td>\n",
       "      <td>NaN</td>\n",
       "      <td>NaN</td>\n",
       "    </tr>\n",
       "  </tbody>\n",
       "</table>\n",
       "<p>5 rows × 74 columns</p>\n",
       "</div>"
      ],
      "text/plain": [
       "        id  member_id  loan_amnt  funded_amnt  funded_amnt_inv        term  \\\n",
       "0  1077501    1296599       5000         5000           4975.0   36 months   \n",
       "1  1077430    1314167       2500         2500           2500.0   60 months   \n",
       "2  1077175    1313524       2400         2400           2400.0   36 months   \n",
       "3  1076863    1277178      10000        10000          10000.0   36 months   \n",
       "4  1075358    1311748       3000         3000           3000.0   60 months   \n",
       "\n",
       "   int_rate  installment grade sub_grade  ... total_bal_il il_util  \\\n",
       "0     10.65       162.87     B        B2  ...          NaN     NaN   \n",
       "1     15.27        59.83     C        C4  ...          NaN     NaN   \n",
       "2     15.96        84.33     C        C5  ...          NaN     NaN   \n",
       "3     13.49       339.31     C        C1  ...          NaN     NaN   \n",
       "4     12.69        67.79     B        B5  ...          NaN     NaN   \n",
       "\n",
       "  open_rv_12m  open_rv_24m max_bal_bc all_util total_rev_hi_lim inq_fi  \\\n",
       "0         NaN          NaN        NaN      NaN              NaN    NaN   \n",
       "1         NaN          NaN        NaN      NaN              NaN    NaN   \n",
       "2         NaN          NaN        NaN      NaN              NaN    NaN   \n",
       "3         NaN          NaN        NaN      NaN              NaN    NaN   \n",
       "4         NaN          NaN        NaN      NaN              NaN    NaN   \n",
       "\n",
       "  total_cu_tl inq_last_12m  \n",
       "0         NaN          NaN  \n",
       "1         NaN          NaN  \n",
       "2         NaN          NaN  \n",
       "3         NaN          NaN  \n",
       "4         NaN          NaN  \n",
       "\n",
       "[5 rows x 74 columns]"
      ]
     },
     "execution_count": 4,
     "metadata": {},
     "output_type": "execute_result"
    }
   ],
   "source": [
    "tabla.head()"
   ]
  },
  {
   "cell_type": "code",
   "execution_count": 5,
   "metadata": {
    "colab": {
     "base_uri": "https://localhost:8080/"
    },
    "id": "SxPi20MmWyCB",
    "outputId": "e8f1cd2f-2b0b-401a-8753-18814399adc6"
   },
   "outputs": [],
   "source": [
    "# a traves de la  siguiente formula determinamos  que el dataset tiene 74 columnas  107.581 filas\n",
    "#print(tabla.shape)"
   ]
  },
  {
   "cell_type": "code",
   "execution_count": 6,
   "metadata": {
    "colab": {
     "base_uri": "https://localhost:8080/",
     "height": 809
    },
    "id": "aHOaW0y5ewQR",
    "outputId": "683989aa-81e3-4af5-ba32-0d1f8987e0ef"
   },
   "outputs": [],
   "source": [
    "#Por medio de la siguiente grafica se puede visualizar cada variable y la cantidad de informacion que contiene cada una de ellas, \n",
    "#hay 17 variables  que no tienen  datos\n",
    "#msno.matrix(tabla)\n",
    "#msno.bar(tabla)"
   ]
  },
  {
   "cell_type": "markdown",
   "metadata": {
    "id": "hm3eoC-Hg_H1"
   },
   "source": [
    "#                                              Data Mining (Limpieza de datos)\n"
   ]
  },
  {
   "cell_type": "code",
   "execution_count": 7,
   "metadata": {
    "id": "Jm3RDKki2fIF"
   },
   "outputs": [],
   "source": [
    "#A fin de  borrar las 17 variables que tienen cero datos se procede aplicar  un dropna con un scope del 80%, se considera  que con este scope \n",
    "#se borra estas variables sin afectar otras variables  que contienen datos y Nan a la vez.\n",
    "\n",
    "tabla.dropna(thresh = tabla.shape[0]*0.2, how = 'all', axis = 1, inplace = True)\n"
   ]
  },
  {
   "cell_type": "code",
   "execution_count": 8,
   "metadata": {
    "id": "3swNXPB_zfhk"
   },
   "outputs": [],
   "source": [
    "#Se borran las columnas redundantes estas variables no tienen incidencia estadisticas, es informacion particular y de  contacto del tomador \n",
    "#del prestamo, falta la variable id, la cual  se  borra luego de completar la limpieza de los  nan.\n",
    "tabla.drop(columns = ['policy_code','addr_state','member_id', 'sub_grade', 'emp_title', 'url', 'desc', 'title','zip_code','recoveries', 'collection_recovery_fee','total_rec_prncp', 'total_rec_late_fee','application_type'], inplace = True)"
   ]
  },
  {
   "cell_type": "markdown",
   "metadata": {
    "id": "4y_bCTSCtUax"
   },
   "source": [
    "Tratamiento de las variables categoricas y NAN"
   ]
  },
  {
   "cell_type": "code",
   "execution_count": 9,
   "metadata": {
    "colab": {
     "base_uri": "https://localhost:8080/"
    },
    "id": "2bDDRo56lyns",
    "outputId": "8235fded-6e82-4bcd-874d-db94ee7c18b0"
   },
   "outputs": [],
   "source": [
    "#variable 'emp_length', esta variable corresponde a la antiguedad en el empleo,  se visualiza donde se encuentran la mayor concentracion de datos\n",
    "#tabla.groupby('emp_length').id.count()"
   ]
  },
  {
   "cell_type": "code",
   "execution_count": 10,
   "metadata": {
    "id": "cAF8Razklyam"
   },
   "outputs": [],
   "source": [
    "#  se  concluye reemplazar los datos faltante  en esta variable - con  el grupo  \"antiguedad  10+ years\"\n",
    "tabla.emp_length.fillna('10+ years',inplace=True)"
   ]
  },
  {
   "cell_type": "code",
   "execution_count": 11,
   "metadata": {
    "id": "rwDFDitYllRk"
   },
   "outputs": [],
   "source": [
    "# la variable emp_length se corrige y se convierte a variable numerica\n",
    "def emp_length_converter(df, column):\n",
    "    df[column] = df[column].str.replace('\\+ years', '')\n",
    "    df[column] = df[column].str.replace('< 1 year', str(0))\n",
    "    df[column] = df[column].str.replace(' years', '')\n",
    "    df[column] = df[column].str.replace(' year', '')\n",
    "    df[column] = pd.to_numeric(df[column])\n",
    "    df[column].fillna(value = 0, inplace = True)\n",
    "                                         "
   ]
  },
  {
   "cell_type": "code",
   "execution_count": 12,
   "metadata": {
    "id": "EWE4OP3Zlv4s"
   },
   "outputs": [],
   "source": [
    "emp_length_converter(tabla,'emp_length')"
   ]
  },
  {
   "cell_type": "code",
   "execution_count": 13,
   "metadata": {
    "id": "KRUqMsATZDb6"
   },
   "outputs": [],
   "source": [
    "# A continuacion  tratamos  las variable s con fechas en sus variables, convertimos  el dato de fecha a formato data time de las variables\n",
    "# 'earliest_cr_line','issue_d', 'last_pymnt_d' , 'last_credit_pull_d'y 'next_pymnt_d'\n",
    "\n",
    "def date_columns(tabla, column):\n",
    "    tabla[column] = pd.to_datetime(tabla[column], format = \"%b-%y\")\n",
    "   #create a new column as a difference between today and the respective date\n",
    "    today_date = pd.to_datetime('2022-03-29')\n",
    "    # calculate the difference in months and add to a new column\n",
    "    tabla['mths_since_' + column] = round(pd.to_numeric((today_date - tabla[column]) / np.timedelta64(1, 'M')))\n",
    "    # make any resulting -ve values to be equal to the max date\n",
    "    tabla['mths_since_' + column] = tabla['mths_since_' + column].apply(lambda x: tabla['mths_since_' + column].max() if x < 0 else x)\n",
    "    # drop the original date column\n",
    "    tabla.drop(columns = [column], inplace = True)\n"
   ]
  },
  {
   "cell_type": "code",
   "execution_count": 14,
   "metadata": {
    "id": "V6p4IFf3Z5AT"
   },
   "outputs": [],
   "source": [
    "date_columns(tabla, 'earliest_cr_line')\n",
    "date_columns(tabla, 'issue_d')\n",
    "date_columns(tabla, 'last_pymnt_d')\n",
    "date_columns(tabla, 'last_credit_pull_d')"
   ]
  },
  {
   "cell_type": "code",
   "execution_count": 15,
   "metadata": {
    "colab": {
     "base_uri": "https://localhost:8080/"
    },
    "id": "4vnERVtygc6p",
    "outputId": "e8a75b1e-6979-4d27-fe50-2ec07c7e9702"
   },
   "outputs": [
    {
     "data": {
      "text/plain": [
       "0               NaT\n",
       "1               NaT\n",
       "2               NaT\n",
       "3               NaT\n",
       "4        2016-02-01\n",
       "            ...    \n",
       "466280   2016-02-01\n",
       "466281          NaT\n",
       "466282   2016-02-01\n",
       "466283          NaT\n",
       "466284   2016-02-01\n",
       "Name: next_pymnt_d, Length: 466285, dtype: datetime64[ns]"
      ]
     },
     "execution_count": 15,
     "metadata": {},
     "output_type": "execute_result"
    }
   ],
   "source": [
    "pd.to_datetime(tabla['next_pymnt_d'], format = \"%b-%y\")"
   ]
  },
  {
   "cell_type": "markdown",
   "metadata": {
    "id": "n8j4CG0bk1uf"
   },
   "source": [
    "TRATAMIENTO DE LOS NAN"
   ]
  },
  {
   "cell_type": "markdown",
   "metadata": {
    "id": "Py-ENJmtgR-I"
   },
   "source": [
    "Se detalla a continuacion  los nan que presisten"
   ]
  },
  {
   "cell_type": "code",
   "execution_count": 16,
   "metadata": {
    "id": "zEj6G9Qk1_eI"
   },
   "outputs": [],
   "source": [
    "# las siguientes variables   tienen un alto indice de nan, se analizo cada variable en particular y se determino rellenarlas con cero \n",
    "# dado que es razonable que no tengan datos,  a continuacion se explica en detalle cada variable:\n",
    "#mths_since_last_delinq=  número de meses desde la última morosidad del prestatario ( es razonable que   exista un al to indice de personas no morosas)\n",
    "# mths_since_last_major_derog = Meses desde la calificación más reciente de 90 días o mas (idem anterior)\n",
    "#tot_coll_amt= Montos totales de cobro alguna vez adeudados, (monto insignificante)\n",
    "#tot_cur_bal=Saldo actual total de todas las cuentas (monto insignificante)\n",
    "#total_rev_hi_lim= Límite de crédito/crédito superior renovable total (monto insignificante)\n",
    "#next_pymnt_d= fecha de proximo pago ,( es razonable que no tenga datos ya que hay creditos que han sido cancelados a la fecha del analisis)\n",
    "#Se rellena el resto de las variables con cero porque en porcentaje representan menos del 5% del total del universo\n",
    "tabla.mths_since_last_delinq.fillna(0,inplace=True)\n",
    "tabla.tot_coll_amt.fillna(0,inplace=True)\n",
    "tabla.tot_cur_bal.fillna(0,inplace=True)\n",
    "tabla.total_rev_hi_lim.fillna(0,inplace=True)\n",
    "tabla.next_pymnt_d.fillna(0,inplace=True)\n",
    "\n"
   ]
  },
  {
   "cell_type": "markdown",
   "metadata": {
    "id": "tfDjb4iFBwRq"
   },
   "source": [
    "Variable '**delinq_2yrs'**, es el numero de morosidad de mas de 30 dias en los \n",
    "ultimos 2 años,"
   ]
  },
  {
   "cell_type": "code",
   "execution_count": 17,
   "metadata": {
    "colab": {
     "base_uri": "https://localhost:8080/",
     "height": 282
    },
    "id": "l5SW59EbAYG6",
    "outputId": "2a912025-a078-49bf-9c63-a7e01e764393"
   },
   "outputs": [
    {
     "data": {
      "text/plain": [
       "<AxesSubplot:ylabel='Frequency'>"
      ]
     },
     "execution_count": 17,
     "metadata": {},
     "output_type": "execute_result"
    },
    {
     "data": {
      "image/png": "[encoded data removed]",
      "text/plain": [
       "<Figure size 432x288 with 1 Axes>"
      ]
     },
     "metadata": {},
     "output_type": "display_data"
    }
   ],
   "source": [
    "tabla[tabla['delinq_2yrs']< 9.]['delinq_2yrs'].plot.hist()"
   ]
  },
  {
   "cell_type": "markdown",
   "metadata": {
    "id": "fMkFlwZNA_Gc"
   },
   "source": [
    "*Se observa en el histograma   que la mayoria de los datos de esta variable se en encuentra en el grupo 0.0*"
   ]
  },
  {
   "cell_type": "code",
   "execution_count": 18,
   "metadata": {
    "id": "xiTy9K-Vo3F6"
   },
   "outputs": [],
   "source": [
    "# se rellena los nan  con 0.0\n",
    "tabla.delinq_2yrs.fillna(0.0,inplace=True)"
   ]
  },
  {
   "cell_type": "markdown",
   "metadata": {
    "id": "gAu9ukGdCo-v"
   },
   "source": [
    "variable '**inq_last_6mths**', corresponde  las consultas de los ultimos 6 meses,"
   ]
  },
  {
   "cell_type": "code",
   "execution_count": 19,
   "metadata": {
    "colab": {
     "base_uri": "https://localhost:8080/",
     "height": 282
    },
    "id": "bS0aI8HkCysv",
    "outputId": "3ac8a0a3-73fb-42ab-9686-41b441a5dee4"
   },
   "outputs": [
    {
     "data": {
      "text/plain": [
       "<AxesSubplot:ylabel='Frequency'>"
      ]
     },
     "execution_count": 19,
     "metadata": {},
     "output_type": "execute_result"
    },
    {
     "data": {
      "image/png": "[encoded data removed]",
      "text/plain": [
       "<Figure size 432x288 with 1 Axes>"
      ]
     },
     "metadata": {},
     "output_type": "display_data"
    }
   ],
   "source": [
    "tabla[tabla['inq_last_6mths']< 12.]['inq_last_6mths'].plot.hist()"
   ]
  },
  {
   "cell_type": "markdown",
   "metadata": {
    "id": "ukx_-w5TDO42"
   },
   "source": [
    "*Se observa en el histograma   que la mayoria de los datos de esta variable se en encuentra en el grupo 0.0*"
   ]
  },
  {
   "cell_type": "code",
   "execution_count": 20,
   "metadata": {
    "id": "Qq-NXAnbDGL2"
   },
   "outputs": [],
   "source": [
    "# se rellena los nan  con 0.0\n",
    "tabla.inq_last_6mths.fillna(0.0,inplace=True)"
   ]
  },
  {
   "cell_type": "markdown",
   "metadata": {
    "id": "QiKWQr2nE5pL"
   },
   "source": [
    "variable '**annual_inc **', corresponde  a los ingresos anuales."
   ]
  },
  {
   "cell_type": "code",
   "execution_count": 21,
   "metadata": {
    "colab": {
     "base_uri": "https://localhost:8080/",
     "height": 282
    },
    "id": "YyP_XA0gFRp0",
    "outputId": "03f53175-d57b-4750-9e80-cf465716190a"
   },
   "outputs": [
    {
     "data": {
      "text/plain": [
       "<AxesSubplot:ylabel='Frequency'>"
      ]
     },
     "execution_count": 21,
     "metadata": {},
     "output_type": "execute_result"
    },
    {
     "data": {
      "image/png": "[encoded data removed]",
      "text/plain": [
       "<Figure size 432x288 with 1 Axes>"
      ]
     },
     "metadata": {},
     "output_type": "display_data"
    }
   ],
   "source": [
    "tabla[tabla['annual_inc']< 100000.]['annual_inc'].plot.hist()"
   ]
  },
  {
   "cell_type": "markdown",
   "metadata": {
    "id": "z1fHN6xCFzBr"
   },
   "source": [
    "*Se observa en el histograma que el promedio del salario mensual es de 50.000 anual se en encuentra en el grupo 50000.0*"
   ]
  },
  {
   "cell_type": "code",
   "execution_count": 22,
   "metadata": {
    "id": "ReZ8EN_5GbbB"
   },
   "outputs": [],
   "source": [
    "# se rellena los nan  con 50000.0\n",
    "tabla.annual_inc.fillna(50000.0,inplace=True)"
   ]
  },
  {
   "cell_type": "markdown",
   "metadata": {
    "id": "OOGqFQhUHp_o"
   },
   "source": [
    "Los nan restantes se rellenan con ceros ya que en representan menos al 5% del total del universo"
   ]
  },
  {
   "cell_type": "code",
   "execution_count": 23,
   "metadata": {
    "colab": {
     "base_uri": "https://localhost:8080/"
    },
    "id": "Ze3_MMAMDgtr",
    "outputId": "5845266f-f514-4b04-f1d1-65f7bbc8165d"
   },
   "outputs": [
    {
     "data": {
      "text/plain": [
       "id                                    0\n",
       "loan_amnt                             0\n",
       "funded_amnt                           0\n",
       "funded_amnt_inv                       0\n",
       "term                                  0\n",
       "int_rate                              0\n",
       "installment                           0\n",
       "grade                                 0\n",
       "emp_length                            0\n",
       "home_ownership                        0\n",
       "annual_inc                            0\n",
       "verification_status                   0\n",
       "loan_status                           0\n",
       "pymnt_plan                            0\n",
       "purpose                               0\n",
       "dti                                   0\n",
       "delinq_2yrs                           0\n",
       "inq_last_6mths                        0\n",
       "mths_since_last_delinq                0\n",
       "open_acc                             29\n",
       "pub_rec                              29\n",
       "revol_bal                             0\n",
       "revol_util                          340\n",
       "total_acc                            29\n",
       "initial_list_status                   0\n",
       "out_prncp                             0\n",
       "out_prncp_inv                         0\n",
       "total_pymnt                           0\n",
       "total_pymnt_inv                       0\n",
       "total_rec_int                         0\n",
       "last_pymnt_amnt                       0\n",
       "next_pymnt_d                          0\n",
       "collections_12_mths_ex_med          145\n",
       "mths_since_last_major_derog      367311\n",
       "acc_now_delinq                       29\n",
       "tot_coll_amt                          0\n",
       "tot_cur_bal                           0\n",
       "total_rev_hi_lim                      0\n",
       "mths_since_earliest_cr_line          29\n",
       "mths_since_issue_d                    0\n",
       "mths_since_last_pymnt_d             376\n",
       "mths_since_last_credit_pull_d        42\n",
       "dtype: int64"
      ]
     },
     "execution_count": 23,
     "metadata": {},
     "output_type": "execute_result"
    }
   ],
   "source": [
    "tabla.isnull().sum()"
   ]
  },
  {
   "cell_type": "code",
   "execution_count": 24,
   "metadata": {
    "id": "mzUIpPJ0IFI6"
   },
   "outputs": [],
   "source": [
    "#se rellena con cero el resto de las variables\n",
    "tabla.fillna(0,inplace=True)"
   ]
  },
  {
   "cell_type": "code",
   "execution_count": 25,
   "metadata": {
    "id": "8BW8A2hJHVQW"
   },
   "outputs": [],
   "source": [
    "# variable term transformarla a numerica y se quita months"
   ]
  },
  {
   "cell_type": "code",
   "execution_count": 26,
   "metadata": {
    "colab": {
     "base_uri": "https://localhost:8080/"
    },
    "id": "awjD_ezzHbbL",
    "outputId": "2b01430d-526b-438c-94b3-f26101946a93"
   },
   "outputs": [
    {
     "data": {
      "text/plain": [
       "term\n",
       " 36 months    337953\n",
       " 60 months    128332\n",
       "Name: id, dtype: int64"
      ]
     },
     "execution_count": 26,
     "metadata": {},
     "output_type": "execute_result"
    }
   ],
   "source": [
    "tabla.groupby('term').id.count()"
   ]
  },
  {
   "cell_type": "code",
   "execution_count": 27,
   "metadata": {
    "id": "E5jYDgF5I0Yz"
   },
   "outputs": [],
   "source": [
    "tabla['term'] = pd.to_numeric(tabla['term'].str.replace(' months', ''))"
   ]
  },
  {
   "cell_type": "markdown",
   "metadata": {
    "id": "McfUy5bcJOLt"
   },
   "source": [
    "Creacion de la variable  Objetivo>>>'loan_status' y su tratamiento\n",
    "\n"
   ]
  },
  {
   "cell_type": "code",
   "execution_count": 28,
   "metadata": {
    "colab": {
     "base_uri": "https://localhost:8080/"
    },
    "id": "-kDvGYtfVfF9",
    "outputId": "f23f745b-e000-4277-8e9d-9eff5ced0ad9"
   },
   "outputs": [
    {
     "data": {
      "text/plain": [
       "loan_status\n",
       "Charged Off                                             42475\n",
       "Current                                                224226\n",
       "Default                                                   832\n",
       "Does not meet the credit policy. Status:Charged Off       761\n",
       "Does not meet the credit policy. Status:Fully Paid       1988\n",
       "Fully Paid                                             184739\n",
       "In Grace Period                                          3146\n",
       "Late (16-30 days)                                        1218\n",
       "Late (31-120 days)                                       6900\n",
       "Name: id, dtype: int64"
      ]
     },
     "execution_count": 28,
     "metadata": {},
     "output_type": "execute_result"
    }
   ],
   "source": [
    "#variable target= el objetivo es la variable loan status\n",
    "tabla.groupby('loan_status').id.count()"
   ]
  },
  {
   "cell_type": "code",
   "execution_count": 29,
   "metadata": {
    "id": "Ela29mz5fKZ4"
   },
   "outputs": [],
   "source": [
    "#creamos la variable objetivo 0 las malas y 1 las buenas; las malas serian las categorias charged Off, Default, Late (31–120 days), Does not meet the credit policy. Status:Charged Off, el resto se consideran buenas\n",
    "tabla['bueno_malo'] = np.where(tabla.loc[:, 'loan_status'].isin(['Charged Off', 'Default', 'Late (31-120 days)',\n",
    "                                                                       'Does not meet the credit policy. Status:Charged Off']), 0, 1)\n"
   ]
  },
  {
   "cell_type": "code",
   "execution_count": 30,
   "metadata": {
    "colab": {
     "base_uri": "https://localhost:8080/"
    },
    "id": "IfIxoYZXvfgz",
    "outputId": "2627d55f-61ce-412d-a518-a205d7323636"
   },
   "outputs": [
    {
     "data": {
      "text/plain": [
       "bueno_malo\n",
       "0     50968\n",
       "1    415317\n",
       "Name: id, dtype: int64"
      ]
     },
     "execution_count": 30,
     "metadata": {},
     "output_type": "execute_result"
    }
   ],
   "source": [
    "tabla.groupby('bueno_malo').id.count()"
   ]
  },
  {
   "cell_type": "code",
   "execution_count": 31,
   "metadata": {
    "id": "M7xoAx9fg1hy"
   },
   "outputs": [],
   "source": [
    "#eliminamos las variable loan del data set\n",
    "tabla.drop(columns = ['loan_status'], inplace = True)"
   ]
  },
  {
   "cell_type": "markdown",
   "metadata": {
    "id": "3GQf2SLFNVyj"
   },
   "source": [
    "# **Tratamiento de las variables categoricas**\n",
    "\n",
    "Para un mejor entendimiento del data set , renombramos las columnas en ingles al español, y a los fines de poder utilizar el analisis annova y el algoritmo de arbol de decision transformamos las variables categoricas a numericas"
   ]
  },
  {
   "cell_type": "code",
   "execution_count": 32,
   "metadata": {
    "id": "PWmbNcR4Z3AI"
   },
   "outputs": [],
   "source": [
    "#Renombrar las columnas\n",
    "tabla_df=tabla.rename(columns={'loan_amnt':'Monto_prestado', 'funded_amnt':'Deuda_neta', 'funded_amnt_inv':'Deuda_total', 'term':'Nª_de_pagos', 'int_rate':'Tasa_de_interes',\n",
    "       'installment':'Pago_mensual', 'grade':'Grado_del_prestamo','emp_length':'Antigüedad_en_el_empleo', 'home_ownership':'Vivienda', 'annual_inc':'Ingresos_Anuales',\n",
    "       'verification_status':'Verificacion_de_garantias', 'pymnt_plan':'Plan_de_pago', 'purpose':'Categoria_del_deudor_requerida', 'dti':'ratio_de_solvencia',\n",
    "       'delinq_2yrs':'Morosidad(q)_en__2_años', 'inq_last_6mths':'Consultas_(q)_6_mths', 'mths_since_last_delinq':'Meses_de_morosidad', 'open_acc':'Cantidad_de_creditos',\n",
    "       'pub_rec':'Q_de_registros_negativos', 'revol_bal':'Rotacion_de_credito', 'revol_util':'Ratio_de_disponibilidad', 'total_acc':'Total_de_creditos_por_persona',\n",
    "       'initial_list_status':'Cotizacion_del_prestamo', 'out_prncp':'Monto_total_adeudado', 'out_prncp_inv':'Capital_adeudado', 'total_pymnt':'Total_de_pagos',\n",
    "       'total_pymnt_inv':'Total_de_pagos_recibido', 'total_rec_int':'Total_de_intereses_pagados', 'last_pymnt_amnt':'Pago_total_(recibido)', 'next_pymnt_d':'Proximo_pago',\n",
    "       'collections_12_mths_ex_med':'Cobros_(q)en_los_ultimos_12_meses', 'mths_since_last_major_derog':'(Q)Meses_(desde_la_ultima_calificacion)', 'acc_now_delinq':'Q_de_creditos_en_mora', 'tot_coll_amt':'Total_de_creditos_en_mora', 'tot_cur_bal':'Total_de_deudas',\n",
    "       'total_rev_hi_lim':'Limite_de_credito', 'mths_since_earliest_cr_line':'meses_desde_la_apertura_del_1_credito', 'mths_since_issue_d':'q_de_mths_desde la financiacion',\n",
    "       'mths_since_last_pymnt_d':'q_de_mths_desde_el_ultimo_pago','mths_since_last_credit_pull_d':'q_de_mths_desde_el_ultimo_credito'   },inplace=True)"
   ]
  },
  {
   "cell_type": "code",
   "execution_count": 33,
   "metadata": {
    "id": "56HEeAvr1eu4"
   },
   "outputs": [],
   "source": [
    "#transformamos la variable prestamo a numerica\n",
    "tabla.Grado_del_prestamo.replace(('A','B','C','D','E','F','G'),(1,2,1,3,4,5,6),inplace=True)"
   ]
  },
  {
   "cell_type": "code",
   "execution_count": 34,
   "metadata": {
    "id": "pa8FEl_Bi8TI"
   },
   "outputs": [],
   "source": [
    "# a los fines de facilitar el analisis se elimina la columna proximo pago, se considera que no es relevante ya   que no indica un estado crediticio\n",
    "tabla.drop(columns = ['Proximo_pago'], inplace = True)"
   ]
  },
  {
   "cell_type": "code",
   "execution_count": 35,
   "metadata": {
    "id": "BHfV47e5dre9"
   },
   "outputs": [],
   "source": [
    "# \"Cotizacion_del_prestamo\" es El estado de cotización inicial del préstamo. Los valores posibles son – W, ​​F, se reemplaza w por 1 y f por 2\n",
    "tabla.Cotizacion_del_prestamo.replace(('w','f',),(1,2),inplace=True)"
   ]
  },
  {
   "cell_type": "code",
   "execution_count": 36,
   "metadata": {
    "id": "hRRpP35rHPzZ"
   },
   "outputs": [],
   "source": [
    "# variable home_ownership,  se transforma a numerica"
   ]
  },
  {
   "cell_type": "code",
   "execution_count": 37,
   "metadata": {
    "colab": {
     "base_uri": "https://localhost:8080/"
    },
    "id": "raXqkbajTq9e",
    "outputId": "222c0b07-854f-4011-8b1b-cdc5fa4f47d9"
   },
   "outputs": [
    {
     "data": {
      "text/plain": [
       "Vivienda\n",
       "ANY              1\n",
       "MORTGAGE    235875\n",
       "NONE            50\n",
       "OTHER          182\n",
       "OWN          41704\n",
       "RENT        188473\n",
       "Name: id, dtype: int64"
      ]
     },
     "execution_count": 37,
     "metadata": {},
     "output_type": "execute_result"
    }
   ],
   "source": [
    "tabla.groupby('Vivienda').id.count()"
   ]
  },
  {
   "cell_type": "code",
   "execution_count": 38,
   "metadata": {
    "id": "7h3e2vWmyGxM"
   },
   "outputs": [],
   "source": [
    "tabla.Vivienda.replace(('ANY','MORTGAGE','NONE','OTHER','OWN','RENT'),(1,2,1,3,4,5),inplace=True)"
   ]
  },
  {
   "cell_type": "code",
   "execution_count": 39,
   "metadata": {
    "id": "OBDnuYOjY4y7"
   },
   "outputs": [],
   "source": [
    "##cambiamos a numerica la variable \"Categoria_del_deudor_requerida\"\n",
    "tabla.Categoria_del_deudor_requerida.replace(('car','credit_card','debt_consolidation','educational','home_improvement','house','major_purchase','medical','moving','other','renewable_energy','small_business','vacation','wedding'),(1,2,3,4,5,6,7,8,9,10,11,12,13,14),inplace=True)"
   ]
  },
  {
   "cell_type": "code",
   "execution_count": 40,
   "metadata": {
    "id": "-48myNh5F19T"
   },
   "outputs": [],
   "source": [
    "#cambiamos a numerica la variable verificacion de garantias, siendo no verificado el numero 1  y verificado en fuente  y verificado el numero 2\n",
    "tabla.Verificacion_de_garantias.replace(('Not Verified','Source Verified','Verified'),(1,2,2),inplace=True)"
   ]
  },
  {
   "cell_type": "code",
   "execution_count": 41,
   "metadata": {
    "id": "VHuQGuDgR0K_"
   },
   "outputs": [],
   "source": [
    "# Plan de pago= indica si se ha tenido que refinanciar el prestamo  se remplaza la variable n(no) por 1  y la y(yes) por 2\n",
    "tabla.Plan_de_pago.replace(('n','y',),(1,2),inplace=True)"
   ]
  },
  {
   "cell_type": "code",
   "execution_count": 42,
   "metadata": {
    "id": "c9PJa_zFtkZJ"
   },
   "outputs": [],
   "source": [
    "#Eliminamos la variable id, ya que es irrelevante  estadisticamente\n",
    "tabla.drop(columns = ['id'], inplace = True)"
   ]
  },
  {
   "cell_type": "markdown",
   "metadata": {
    "id": "bYxoyA2XSWMb"
   },
   "source": [
    "### **                Analisis Multivariado   (Analisis Annova)**\n",
    "En base al analisis Annova determinamos las variables con mayor incidencia estadistica en funcion  a la variable Target= bueno_malo"
   ]
  },
  {
   "cell_type": "code",
   "execution_count": 43,
   "metadata": {
    "id": "B8WuEwuF6Am-"
   },
   "outputs": [],
   "source": [
    "\n",
    "columns=tabla.columns\n",
    "at=[]\n",
    "\n",
    "for i in columns:\n",
    "  variable= i\n",
    "  a=tabla.iloc[np.where(tabla.bueno_malo==0)][variable]\n",
    "  b=tabla.iloc[np.where(tabla.bueno_malo==1)][variable]\n",
    "  f,pvalue= stats.f_oneway(a,b)\n",
    "  b=variable + ' '+str(pvalue)\n",
    "  at=at+[b]\n",
    "  at"
   ]
  },
  {
   "cell_type": "code",
   "execution_count": 44,
   "metadata": {
    "colab": {
     "base_uri": "https://localhost:8080/"
    },
    "id": "9D8QoNLbGajJ",
    "outputId": "179b0059-02e0-4fef-e59d-647e230fe543"
   },
   "outputs": [
    {
     "data": {
      "text/plain": [
       "['Monto_prestado 6.971863523226553e-16',\n",
       " 'Deuda_neta 5.744322749217216e-14',\n",
       " 'Deuda_total 9.074727554676895e-07',\n",
       " 'Nª_de_pagos 0.0',\n",
       " 'Tasa_de_interes 0.0',\n",
       " 'Pago_mensual 1.792960961348729e-21',\n",
       " 'Grado_del_prestamo 0.0',\n",
       " 'Antigüedad_en_el_empleo 2.017162109492407e-16',\n",
       " 'Vivienda 6.553021813751702e-209',\n",
       " 'Ingresos_Anuales 2.0778381004274083e-254',\n",
       " 'Verificacion_de_garantias 1.219734441642638e-114',\n",
       " 'Plan_de_pago 0.001271755518854733',\n",
       " 'Categoria_del_deudor_requerida 9.119458283083282e-193',\n",
       " 'ratio_de_solvencia 6.876753943365023e-237',\n",
       " 'Morosidad(q)_en__2_años 0.4018650037600816',\n",
       " 'Consultas_(q)_6_mths 0.0',\n",
       " 'Meses_de_morosidad 0.0010500283948904577',\n",
       " 'Cantidad_de_creditos 2.5146076922305832e-05',\n",
       " 'Q_de_registros_negativos 4.934577827748389e-10',\n",
       " 'Rotacion_de_credito 5.097966746414863e-36',\n",
       " 'Ratio_de_disponibilidad 3.7047543613701756e-253',\n",
       " 'Total_de_creditos_por_persona 6.8425301938870825e-56',\n",
       " 'Cotizacion_del_prestamo 3.305972449323249e-236',\n",
       " 'Monto_total_adeudado 0.0',\n",
       " 'Capital_adeudado 0.0',\n",
       " 'Total_de_pagos 0.0',\n",
       " 'Total_de_pagos_recibido 0.0',\n",
       " 'Total_de_intereses_pagados 1.961012828833405e-74',\n",
       " 'Pago_total_(recibido) 0.0',\n",
       " 'Cobros_(q)en_los_ultimos_12_meses 0.00047255991166859457',\n",
       " '(Q)Meses_(desde_la_ultima_calificacion) 1.344309238569775e-14',\n",
       " 'Q_de_creditos_en_mora 0.8930549906101473',\n",
       " 'Total_de_creditos_en_mora 0.3412421513185008',\n",
       " 'Total_de_deudas 0.0',\n",
       " 'Limite_de_credito 3.990207896903712e-259',\n",
       " 'meses_desde_la_apertura_del_1_credito 5.677355291833894e-120',\n",
       " 'q_de_mths_desde la financiacion 0.0',\n",
       " 'q_de_mths_desde_el_ultimo_pago 0.0',\n",
       " 'q_de_mths_desde_el_ultimo_credito 0.0',\n",
       " 'bueno_malo 0.0']"
      ]
     },
     "execution_count": 44,
     "metadata": {},
     "output_type": "execute_result"
    }
   ],
   "source": [
    "at"
   ]
  },
  {
   "cell_type": "markdown",
   "metadata": {
    "id": "Drzj2MSHphhU"
   },
   "source": [
    "**Separamos en data frame en target y features**\n",
    "\n",
    "selecionamos como features aquellas   variables que en  el analisis Annova han dado como resultado menor a 0, nos da como resultado unas 15 variables\n",
    "\n",
    "Ademas creamos la variable Target.\n",
    "\n"
   ]
  },
  {
   "cell_type": "code",
   "execution_count": 45,
   "metadata": {
    "id": "ewMpxiIkpUz3"
   },
   "outputs": [],
   "source": [
    "Target=pd.DataFrame(tabla,columns=['bueno_malo'])"
   ]
  },
  {
   "cell_type": "code",
   "execution_count": null,
   "metadata": {},
   "outputs": [],
   "source": []
  },
  {
   "cell_type": "code",
   "execution_count": 46,
   "metadata": {
    "id": "FqA4ytiPieH8"
   },
   "outputs": [],
   "source": [
    "Tabla_Features_df=pd.DataFrame(tabla,columns=[ 'Monto_prestado','Deuda_neta','Pago_mensual','Antigüedad_en_el_empleo','Vivienda','Ingresos_Anuales','Verificacion_de_garantias','ratio_de_solvencia','Cantidad_de_creditos','Q_de_registros_negativos','Rotacion_de_credito','Ratio_de_disponibilidad','Cotizacion_del_prestamo','Total_de_intereses_pagados','Limite_de_credito'])"
   ]
  },
  {
   "cell_type": "markdown",
   "metadata": {
    "id": "0AKEDXGmbHXz"
   },
   "source": [
    "**                       Analisis Univariado y Bivariado**\n",
    "\n",
    "\n",
    "\n",
    "Se realiza el analisis univariado  y bivariado sobre los features con mayor relevacia estadisitica en  relacion al Target.\n"
   ]
  },
  {
   "cell_type": "code",
   "execution_count": 47,
   "metadata": {
    "colab": {
     "base_uri": "https://localhost:8080/"
    },
    "id": "o-7HPJpva-VI",
    "outputId": "15d526a4-f701-4149-9586-354c62ebde46"
   },
   "outputs": [
    {
     "data": {
      "text/plain": [
       "Monto_prestado                  int64\n",
       "Deuda_neta                      int64\n",
       "Pago_mensual                  float64\n",
       "Antigüedad_en_el_empleo         int64\n",
       "Vivienda                        int64\n",
       "Ingresos_Anuales              float64\n",
       "Verificacion_de_garantias       int64\n",
       "ratio_de_solvencia            float64\n",
       "Cantidad_de_creditos          float64\n",
       "Q_de_registros_negativos      float64\n",
       "Rotacion_de_credito             int64\n",
       "Ratio_de_disponibilidad       float64\n",
       "Cotizacion_del_prestamo         int64\n",
       "Total_de_intereses_pagados    float64\n",
       "Limite_de_credito             float64\n",
       "dtype: object"
      ]
     },
     "execution_count": 47,
     "metadata": {},
     "output_type": "execute_result"
    }
   ],
   "source": [
    "#caracteristicas de las variables\n",
    "Tabla_Features_df.dtypes"
   ]
  },
  {
   "cell_type": "markdown",
   "metadata": {
    "id": "0Jg5KOhCbPvN"
   },
   "source": [
    "**Analisis=** Se observa que todas las variables son int o float, esto es correcto ya que para el algoritmo de arbol de decision no podemos tener variables con String."
   ]
  },
  {
   "cell_type": "markdown",
   "metadata": {
    "id": "YD7z04SUgLW_"
   },
   "source": [
    "Analisis Estadistico "
   ]
  },
  {
   "cell_type": "code",
   "execution_count": 48,
   "metadata": {
    "colab": {
     "base_uri": "https://localhost:8080/",
     "height": 551
    },
    "id": "EeR1H1hQc9iz",
    "outputId": "69577649-6873-49fc-c151-d5d24db2e2d5"
   },
   "outputs": [
    {
     "data": {
      "text/html": [
       "<div>\n",
       "<style scoped>\n",
       "    .dataframe tbody tr th:only-of-type {\n",
       "        vertical-align: middle;\n",
       "    }\n",
       "\n",
       "    .dataframe tbody tr th {\n",
       "        vertical-align: top;\n",
       "    }\n",
       "\n",
       "    .dataframe thead th {\n",
       "        text-align: right;\n",
       "    }\n",
       "</style>\n",
       "<table border=\"1\" class=\"dataframe\">\n",
       "  <thead>\n",
       "    <tr style=\"text-align: right;\">\n",
       "      <th></th>\n",
       "      <th>count</th>\n",
       "      <th>mean</th>\n",
       "      <th>std</th>\n",
       "      <th>min</th>\n",
       "      <th>25%</th>\n",
       "      <th>50%</th>\n",
       "      <th>75%</th>\n",
       "      <th>max</th>\n",
       "    </tr>\n",
       "  </thead>\n",
       "  <tbody>\n",
       "    <tr>\n",
       "      <th>Monto_prestado</th>\n",
       "      <td>466285.0</td>\n",
       "      <td>14317.277577</td>\n",
       "      <td>8286.509164</td>\n",
       "      <td>500.00</td>\n",
       "      <td>8000.00</td>\n",
       "      <td>12000.00</td>\n",
       "      <td>20000.00</td>\n",
       "      <td>35000.00</td>\n",
       "    </tr>\n",
       "    <tr>\n",
       "      <th>Deuda_neta</th>\n",
       "      <td>466285.0</td>\n",
       "      <td>14291.801044</td>\n",
       "      <td>8274.371300</td>\n",
       "      <td>500.00</td>\n",
       "      <td>8000.00</td>\n",
       "      <td>12000.00</td>\n",
       "      <td>20000.00</td>\n",
       "      <td>35000.00</td>\n",
       "    </tr>\n",
       "    <tr>\n",
       "      <th>Pago_mensual</th>\n",
       "      <td>466285.0</td>\n",
       "      <td>432.061201</td>\n",
       "      <td>243.485550</td>\n",
       "      <td>15.67</td>\n",
       "      <td>256.69</td>\n",
       "      <td>379.89</td>\n",
       "      <td>566.58</td>\n",
       "      <td>1409.99</td>\n",
       "    </tr>\n",
       "    <tr>\n",
       "      <th>Antigüedad_en_el_empleo</th>\n",
       "      <td>466285.0</td>\n",
       "      <td>6.173846</td>\n",
       "      <td>3.640525</td>\n",
       "      <td>0.00</td>\n",
       "      <td>3.00</td>\n",
       "      <td>7.00</td>\n",
       "      <td>10.00</td>\n",
       "      <td>10.00</td>\n",
       "    </tr>\n",
       "    <tr>\n",
       "      <th>Vivienda</th>\n",
       "      <td>466285.0</td>\n",
       "      <td>3.391763</td>\n",
       "      <td>1.434945</td>\n",
       "      <td>1.00</td>\n",
       "      <td>2.00</td>\n",
       "      <td>2.00</td>\n",
       "      <td>5.00</td>\n",
       "      <td>5.00</td>\n",
       "    </tr>\n",
       "    <tr>\n",
       "      <th>Ingresos_Anuales</th>\n",
       "      <td>466285.0</td>\n",
       "      <td>73277.181787</td>\n",
       "      <td>54963.375185</td>\n",
       "      <td>1896.00</td>\n",
       "      <td>45000.00</td>\n",
       "      <td>63000.00</td>\n",
       "      <td>88953.00</td>\n",
       "      <td>7500000.00</td>\n",
       "    </tr>\n",
       "    <tr>\n",
       "      <th>Verificacion_de_garantias</th>\n",
       "      <td>466285.0</td>\n",
       "      <td>1.682089</td>\n",
       "      <td>0.465665</td>\n",
       "      <td>1.00</td>\n",
       "      <td>1.00</td>\n",
       "      <td>2.00</td>\n",
       "      <td>2.00</td>\n",
       "      <td>2.00</td>\n",
       "    </tr>\n",
       "    <tr>\n",
       "      <th>ratio_de_solvencia</th>\n",
       "      <td>466285.0</td>\n",
       "      <td>17.218758</td>\n",
       "      <td>7.851121</td>\n",
       "      <td>0.00</td>\n",
       "      <td>11.36</td>\n",
       "      <td>16.87</td>\n",
       "      <td>22.78</td>\n",
       "      <td>39.99</td>\n",
       "    </tr>\n",
       "    <tr>\n",
       "      <th>Cantidad_de_creditos</th>\n",
       "      <td>466285.0</td>\n",
       "      <td>11.186373</td>\n",
       "      <td>4.988151</td>\n",
       "      <td>0.00</td>\n",
       "      <td>8.00</td>\n",
       "      <td>10.00</td>\n",
       "      <td>14.00</td>\n",
       "      <td>84.00</td>\n",
       "    </tr>\n",
       "    <tr>\n",
       "      <th>Q_de_registros_negativos</th>\n",
       "      <td>466285.0</td>\n",
       "      <td>0.160554</td>\n",
       "      <td>0.510848</td>\n",
       "      <td>0.00</td>\n",
       "      <td>0.00</td>\n",
       "      <td>0.00</td>\n",
       "      <td>0.00</td>\n",
       "      <td>63.00</td>\n",
       "    </tr>\n",
       "    <tr>\n",
       "      <th>Rotacion_de_credito</th>\n",
       "      <td>466285.0</td>\n",
       "      <td>16230.203487</td>\n",
       "      <td>20676.245152</td>\n",
       "      <td>0.00</td>\n",
       "      <td>6413.00</td>\n",
       "      <td>11764.00</td>\n",
       "      <td>20333.00</td>\n",
       "      <td>2568995.00</td>\n",
       "    </tr>\n",
       "    <tr>\n",
       "      <th>Ratio_de_disponibilidad</th>\n",
       "      <td>466285.0</td>\n",
       "      <td>56.135985</td>\n",
       "      <td>23.772387</td>\n",
       "      <td>0.00</td>\n",
       "      <td>39.20</td>\n",
       "      <td>57.50</td>\n",
       "      <td>74.70</td>\n",
       "      <td>892.30</td>\n",
       "    </tr>\n",
       "    <tr>\n",
       "      <th>Cotizacion_del_prestamo</th>\n",
       "      <td>466285.0</td>\n",
       "      <td>1.649828</td>\n",
       "      <td>0.477024</td>\n",
       "      <td>1.00</td>\n",
       "      <td>1.00</td>\n",
       "      <td>2.00</td>\n",
       "      <td>2.00</td>\n",
       "      <td>2.00</td>\n",
       "    </tr>\n",
       "    <tr>\n",
       "      <th>Total_de_intereses_pagados</th>\n",
       "      <td>466285.0</td>\n",
       "      <td>2588.677225</td>\n",
       "      <td>2483.809661</td>\n",
       "      <td>0.00</td>\n",
       "      <td>957.28</td>\n",
       "      <td>1818.88</td>\n",
       "      <td>3304.53</td>\n",
       "      <td>24205.62</td>\n",
       "    </tr>\n",
       "    <tr>\n",
       "      <th>Limite_de_credito</th>\n",
       "      <td>466285.0</td>\n",
       "      <td>25800.512924</td>\n",
       "      <td>36005.335993</td>\n",
       "      <td>0.00</td>\n",
       "      <td>8900.00</td>\n",
       "      <td>19200.00</td>\n",
       "      <td>34300.00</td>\n",
       "      <td>9999999.00</td>\n",
       "    </tr>\n",
       "  </tbody>\n",
       "</table>\n",
       "</div>"
      ],
      "text/plain": [
       "                               count          mean           std      min  \\\n",
       "Monto_prestado              466285.0  14317.277577   8286.509164   500.00   \n",
       "Deuda_neta                  466285.0  14291.801044   8274.371300   500.00   \n",
       "Pago_mensual                466285.0    432.061201    243.485550    15.67   \n",
       "Antigüedad_en_el_empleo     466285.0      6.173846      3.640525     0.00   \n",
       "Vivienda                    466285.0      3.391763      1.434945     1.00   \n",
       "Ingresos_Anuales            466285.0  73277.181787  54963.375185  1896.00   \n",
       "Verificacion_de_garantias   466285.0      1.682089      0.465665     1.00   \n",
       "ratio_de_solvencia          466285.0     17.218758      7.851121     0.00   \n",
       "Cantidad_de_creditos        466285.0     11.186373      4.988151     0.00   \n",
       "Q_de_registros_negativos    466285.0      0.160554      0.510848     0.00   \n",
       "Rotacion_de_credito         466285.0  16230.203487  20676.245152     0.00   \n",
       "Ratio_de_disponibilidad     466285.0     56.135985     23.772387     0.00   \n",
       "Cotizacion_del_prestamo     466285.0      1.649828      0.477024     1.00   \n",
       "Total_de_intereses_pagados  466285.0   2588.677225   2483.809661     0.00   \n",
       "Limite_de_credito           466285.0  25800.512924  36005.335993     0.00   \n",
       "\n",
       "                                 25%       50%       75%         max  \n",
       "Monto_prestado               8000.00  12000.00  20000.00    35000.00  \n",
       "Deuda_neta                   8000.00  12000.00  20000.00    35000.00  \n",
       "Pago_mensual                  256.69    379.89    566.58     1409.99  \n",
       "Antigüedad_en_el_empleo         3.00      7.00     10.00       10.00  \n",
       "Vivienda                        2.00      2.00      5.00        5.00  \n",
       "Ingresos_Anuales            45000.00  63000.00  88953.00  7500000.00  \n",
       "Verificacion_de_garantias       1.00      2.00      2.00        2.00  \n",
       "ratio_de_solvencia             11.36     16.87     22.78       39.99  \n",
       "Cantidad_de_creditos            8.00     10.00     14.00       84.00  \n",
       "Q_de_registros_negativos        0.00      0.00      0.00       63.00  \n",
       "Rotacion_de_credito          6413.00  11764.00  20333.00  2568995.00  \n",
       "Ratio_de_disponibilidad        39.20     57.50     74.70      892.30  \n",
       "Cotizacion_del_prestamo         1.00      2.00      2.00        2.00  \n",
       "Total_de_intereses_pagados    957.28   1818.88   3304.53    24205.62  \n",
       "Limite_de_credito            8900.00  19200.00  34300.00  9999999.00  "
      ]
     },
     "execution_count": 48,
     "metadata": {},
     "output_type": "execute_result"
    }
   ],
   "source": [
    "Tabla_Features_df.describe().T"
   ]
  },
  {
   "cell_type": "markdown",
   "metadata": {
    "id": "WZstYSnNeUnj"
   },
   "source": [
    "mediante esta  descripcion podemos destacar:\n",
    "\n",
    "*   **Vivienda**=Que el 50 %  de las personas con creditos otorgados  tienen  la viviendo con hipoteca, es decir que  las mismas no se pueden embargar en caso de incumplimiento.\n",
    "\n",
    "*   **Ingresos Anuales**= LLama la atencion que el  maximo es de 7.500.000  y  monto maximo de credito otorgado es de 35.000\n",
    "\n",
    "\n",
    "\n",
    "*   **Verificacion de Garantias=**  un 25%  de las garantias no ha sido   verificada\n",
    "\n",
    "\n",
    "\n",
    "\n"
   ]
  },
  {
   "cell_type": "code",
   "execution_count": 49,
   "metadata": {
    "colab": {
     "base_uri": "https://localhost:8080/",
     "height": 514
    },
    "id": "2mW_aZ4voHNy",
    "outputId": "4729749f-ad00-4324-ef8e-73fd5f4f9bfd"
   },
   "outputs": [
    {
     "data": {
      "image/png": "[encoded data removed]",
      "text/plain": [
       "<Figure size 800x400 with 2 Axes>"
      ]
     },
     "metadata": {},
     "output_type": "display_data"
    }
   ],
   "source": [
    "#Correlaciones de variables\n",
    "plt.figure(dpi = 80,figsize= (10,5))\n",
    "mask = np.triu(np.ones_like(Tabla_Features_df.corr(),dtype = bool))\n",
    "sns.heatmap(Tabla_Features_df.corr(),mask = mask, fmt = \".2f\",annot=True,lw=1,cmap = 'plasma')\n",
    "plt.yticks(rotation = 0)\n",
    "plt.xticks(rotation = 90)\n",
    "plt.title('Correlacion de variables')\n",
    "plt.show()"
   ]
  },
  {
   "cell_type": "markdown",
   "metadata": {
    "id": "xhs-n9BrSzdm"
   },
   "source": [
    "En el grafico de correlacion de variables, se puede percibir las siguientes correlaciones:\n",
    "\n",
    "Alta correlacion\n",
    "*   Monto_prestado/Deuda_neta\n",
    "*   Monto_prestado/Pago_mensual\n",
    "*   Deuda_neta/Pago_mensual\n",
    "\n",
    "Correlacion media\n",
    "\n",
    "\n",
    "*   Monto_prestado/Total_de_intereses_pagados\n",
    "*   Deuda_neta/Total_de_intereses_pagados\n",
    "*   Pago_mensual/Total_de_intereses_pagados\n",
    "*   Rotacion_del_credito/Limite_de_credito\n",
    "\n",
    "Correlacion Normal\n",
    "\n",
    "Un total de 27 correlaciones en el rango de 0.20 y 0.40\n",
    "\n",
    "\n",
    "\n",
    "\n",
    "\n",
    "\n",
    "\n"
   ]
  },
  {
   "cell_type": "markdown",
   "metadata": {
    "id": "fwdpMhgve6Ob"
   },
   "source": [
    "Analisis Bivariado"
   ]
  },
  {
   "cell_type": "markdown",
   "metadata": {
    "id": "x5-cuOzpkPVg"
   },
   "source": [
    "**#Cual es la relacion entre el Pago Mensualy el Monto de  Prestado?**"
   ]
  },
  {
   "cell_type": "code",
   "execution_count": 50,
   "metadata": {
    "colab": {
     "base_uri": "https://localhost:8080/",
     "height": 297
    },
    "id": "-N6r4M9FOba7",
    "outputId": "b3d027a3-8268-43e2-bfd0-50ccbc3ef539"
   },
   "outputs": [
    {
     "data": {
      "text/plain": [
       "<AxesSubplot:xlabel='Pago_mensual', ylabel='Monto_prestado'>"
      ]
     },
     "execution_count": 50,
     "metadata": {},
     "output_type": "execute_result"
    },
    {
     "data": {
      "image/png": "[encoded data removed]",
      "text/plain": [
       "<Figure size 432x288 with 1 Axes>"
      ]
     },
     "metadata": {},
     "output_type": "display_data"
    }
   ],
   "source": [
    "sns.scatterplot(Tabla_Features_df['Pago_mensual'], Tabla_Features_df['Monto_prestado'])"
   ]
  },
  {
   "cell_type": "markdown",
   "metadata": {
    "id": "FuaVOpMgeafz"
   },
   "source": [
    "**Respuesta=** La relacion es Positiva a mayor Monto prestado, mayor es la cantidad pagada"
   ]
  },
  {
   "cell_type": "markdown",
   "metadata": {
    "id": "1jiE75Dyijhp"
   },
   "source": [
    "**Cual es la relacion entre la Antiguedad en el empleo y el monto prestado?**"
   ]
  },
  {
   "cell_type": "code",
   "execution_count": 51,
   "metadata": {
    "colab": {
     "base_uri": "https://localhost:8080/",
     "height": 200
    },
    "id": "_sof_BfxQcvJ",
    "outputId": "428453cb-a744-467b-ca84-e701457fc72f"
   },
   "outputs": [
    {
     "data": {
      "text/plain": [
       "<AxesSubplot:xlabel='Antigüedad_en_el_empleo', ylabel='Monto_prestado'>"
      ]
     },
     "execution_count": 51,
     "metadata": {},
     "output_type": "execute_result"
    },
    {
     "data": {
      "image/png": "[encoded data removed]",
      "text/plain": [
       "<Figure size 360x144 with 1 Axes>"
      ]
     },
     "metadata": {},
     "output_type": "display_data"
    }
   ],
   "source": [
    "cat = Tabla_Features_df[['Antigüedad_en_el_empleo','Monto_prestado']].groupby(['Antigüedad_en_el_empleo'], as_index=False).sum().sort_values(by='Monto_prestado', ascending=False)\n",
    "plt.figure(figsize=(5,2))\n",
    "sns.barplot(x='Antigüedad_en_el_empleo', y='Monto_prestado', data=cat)"
   ]
  },
  {
   "cell_type": "markdown",
   "metadata": {
    "id": "pCtOdb8jcQIa"
   },
   "source": [
    "Respuesta= no hay una relacion lineal entre la antiguedad  y el monto prestado,  el gran salto es  a partir de los 10 años"
   ]
  },
  {
   "cell_type": "code",
   "execution_count": 52,
   "metadata": {
    "colab": {
     "base_uri": "https://localhost:8080/",
     "height": 334
    },
    "id": "vD11_XQIPnZX",
    "outputId": "8520389b-3d5b-4e76-957d-05e32dabad2d"
   },
   "outputs": [
    {
     "data": {
      "image/png": "[encoded data removed]",
      "text/plain": [
       "<Figure size 720x360 with 1 Axes>"
      ]
     },
     "metadata": {},
     "output_type": "display_data"
    }
   ],
   "source": [
    "# Tipo de vivienda de las personas que tienen un prestamo\n",
    "plt.figure(figsize=(10,5))\n",
    "sns.countplot(y='Vivienda',data=tabla)\n",
    "plt.show()"
   ]
  },
  {
   "cell_type": "markdown",
   "metadata": {
    "id": "Qj5OYTPTf1p_"
   },
   "source": [
    "respuesta= se ha transformado a  numerica las variables categoricas, la relacion es la siguiente>>> A**NY and OTHER** texto en negrita=1, **MORTGAGE**=2, **NONE**=3, **OWN**=4, **RENT**=5\n",
    "La mayor cabtidad de gente con prestamo tiene una hipoteca, luego le siguen las personas que alquilan y por ultimo  se encuentra el grupo que es propietario de una vivienda"
   ]
  },
  {
   "cell_type": "markdown",
   "metadata": {
    "id": "3v4-GhQWKjaA"
   },
   "source": [
    "**Cual es la relacion entre los montos prestados y su categoria bueno o malo?**"
   ]
  },
  {
   "cell_type": "code",
   "execution_count": 53,
   "metadata": {
    "colab": {
     "base_uri": "https://localhost:8080/",
     "height": 542
    },
    "id": "RdFPoPUT4-OL",
    "outputId": "a3be9fa3-610e-4916-e54a-cfec1d5dd696"
   },
   "outputs": [],
   "source": [
    "# categoria 0 son las malas el 1 es categoria bueno\n",
    "#fig = px.violin(Tabla_Features, x=\"bueno_malo\", y=\"Monto_prestado\",box=True)\n",
    "#fig.show()"
   ]
  },
  {
   "cell_type": "markdown",
   "metadata": {
    "id": "ZFHPIIWTwqXm"
   },
   "source": [
    "la media prestada es de 11.000 aproximado, llegando como limite a 35.000 en cualquiera de los dos casos."
   ]
  },
  {
   "cell_type": "code",
   "execution_count": 54,
   "metadata": {
    "colab": {
     "base_uri": "https://localhost:8080/",
     "height": 542
    },
    "id": "QQVkuAmYSrpX",
    "outputId": "06c507d0-41cf-469a-a121-6d8f5bdb345e"
   },
   "outputs": [],
   "source": [
    "\n",
    "#fig = px.pie(Tabla_Features, names=\"bueno_malo\",values='Monto_prestado')\n",
    "#fig.show()"
   ]
  },
  {
   "cell_type": "markdown",
   "metadata": {
    "id": "hY-QHyWljoyG"
   },
   "source": [
    "**Respuesta**= La media de los dos grupos es la misma, pero la cantidad de prestamos otorgados al grupo malo es inferior al grupo bueno, es decir ,  no se ve un riesgo en el procedimiento de otorgamiento del credito"
   ]
  },
  {
   "cell_type": "markdown",
   "metadata": {
    "id": "kdHPHqMp29Zy"
   },
   "source": [
    "Cual es la media entre los prestamos  otorgados sin verificar las garantias  contras los que si se verificaron?"
   ]
  },
  {
   "cell_type": "code",
   "execution_count": 55,
   "metadata": {
    "colab": {
     "base_uri": "https://localhost:8080/",
     "height": 335
    },
    "id": "i4WOSXQC2RZW",
    "outputId": "b51f7eb4-d0e3-4606-f11c-ca7ffbaebd13"
   },
   "outputs": [
    {
     "data": {
      "image/png": "[encoded data removed]",
      "text/plain": [
       "<Figure size 720x360 with 1 Axes>"
      ]
     },
     "metadata": {},
     "output_type": "display_data"
    }
   ],
   "source": [
    "plt.figure(figsize=(10,5))\n",
    "sns.boxplot(x='Verificacion_de_garantias',y=\"Monto_prestado\",data=Tabla_Features_df,palette=['#008B8B','#00FFFF'])\n",
    "plt.show()"
   ]
  },
  {
   "cell_type": "markdown",
   "metadata": {
    "id": "8SsbLEVS3Iyq"
   },
   "source": [
    "Respuesta=  la media es de 10.000 en los prestamos en los que no se verifico la garantia contra 15.000 de los que si se  verificaron, en ningun caso   pasan de los 35.000 otorgados"
   ]
  },
  {
   "cell_type": "markdown",
   "metadata": {},
   "source": [
    "### **Seleccion de modelo**\n",
    "\n",
    " A continuación vamos a determinar cuáles son los modelos mas apropiados para nustro data set"
   ]
  },
  {
   "cell_type": "markdown",
   "metadata": {},
   "source": [
    "Descargamos  las librerias relacionadas a los algoritmos de clasiifcacion"
   ]
  },
  {
   "cell_type": "code",
   "execution_count": 56,
   "metadata": {},
   "outputs": [],
   "source": [
    "from sklearn.linear_model import LinearRegression\n",
    "from sklearn.tree import DecisionTreeRegressor\n",
    "from sklearn.neighbors import KNeighborsRegressor\n",
    "from sklearn.ensemble import RandomForestRegressor\n",
    "from sklearn.svm import SVR"
   ]
  },
  {
   "cell_type": "code",
   "execution_count": 57,
   "metadata": {},
   "outputs": [],
   "source": [
    "#Seleccionamos las variables a utilizar\n",
    "X_np,y_np=Tabla_Features_df,Target"
   ]
  },
  {
   "cell_type": "code",
   "execution_count": 58,
   "metadata": {},
   "outputs": [],
   "source": [
    "# transformamos a numpy las variables\n",
    "X_np=X_np.to_numpy()\n",
    "y_np=y_np.to_numpy()"
   ]
  },
  {
   "cell_type": "code",
   "execution_count": 59,
   "metadata": {},
   "outputs": [],
   "source": [
    "#Me quedo con 30% para test y 70% para train\n",
    "from sklearn.model_selection import train_test_split, RepeatedStratifiedKFold, cross_val_score\n",
    "X_train_np, X_test_np, y_train_np, y_test_np= train_test_split(X_np,y_np, test_size=0.3, random_state=42) \n"
   ]
  },
  {
   "cell_type": "code",
   "execution_count": 60,
   "metadata": {},
   "outputs": [],
   "source": [
    "#cargamos los modelos a considerar\n",
    "linear_model= LinearRegression()\n",
    "tree_classifier= DecisionTreeClassifier()\n",
    "knn_regressor= KNeighborsRegressor()\n",
    "random_forest= RandomForestRegressor()\n",
    "svm= SVR(kernel='linear', C=100, gamma='auto', degree=3, epsilon=.1, coef0=1)"
   ]
  },
  {
   "cell_type": "code",
   "execution_count": null,
   "metadata": {},
   "outputs": [],
   "source": [
    "#entrenamos los modelos \n",
    "linear_model.fit(X_train_np,y_train_np)\n",
    "tree_classifier.fit(X_train_np,y_train_np)\n",
    "knn_regressor.fit(X_train_np,y_train_np)\n",
    "random_forest.fit(X_train_np,y_train_np)\n",
    "svm.fit(X_train_np,y_train_np)"
   ]
  },
  {
   "cell_type": "code",
   "execution_count": null,
   "metadata": {},
   "outputs": [],
   "source": [
    "#ajusto los parametros ( faltaria ajustar  los parametros de svm, KNN, tree, y regresion lineal)\n",
    "#Random Forest\n",
    "from sklearn.model_selection import GridSearchCV\n",
    "random_forest= RandomForestRegressor()\n",
    "params={\n",
    "'n_estimators': [20,100,200],\n",
    "'max_features': ['auto','sqrt','log2']\n",
    "}\n",
    "grid_rf=GridSearchCV(estimator=random_forest,\n",
    "    param_grid=params,\n",
    "    scoring='neg_mean_absolute_error',\n",
    "    verbose=1,\n",
    "    n_jobs=-1\n",
    ")"
   ]
  },
  {
   "cell_type": "code",
   "execution_count": null,
   "metadata": {},
   "outputs": [],
   "source": [
    "#ajusto los parametros para Regresion Lineal\n",
    "from sklearn.model_selection import GridSearchCV\n",
    "linear_model= LinearRegression()\n",
    "params={\n",
    "'fit_intercept':[\"bool\",\"True\"], \n",
    "'normalize':[\"bool\",\"False\"], \n",
    "'copy_X':[\"bool\",\"True\"], \n",
    "'n_jobs':[\"int\",\"None\"],\n",
    "'positive':[\"bool\",\"False\"], \n",
    "}\n",
    "grid_linear=GridSearchCV(estimator=linear_model,\n",
    "    param_grid=params,\n",
    "    scoring='neg_mean_absolute_error',\n",
    "    verbose=1,\n",
    "    n_jobs=-1\n",
    ")"
   ]
  },
  {
   "cell_type": "markdown",
   "metadata": {},
   "source": [
    "'fit_intercept':[\"bool\",\"True\"], \n",
    "\n",
    "'normalize':[\"bool\",\"False\"], \n",
    "\n",
    "'copy_X':[\"bool\",\"True\"], \n",
    "\n",
    "'n_jobs':[\"int\",\"None\"],\n",
    "\n",
    "'positive':[\"bool\",\"False\"], \n"
   ]
  },
  {
   "cell_type": "code",
   "execution_count": null,
   "metadata": {},
   "outputs": [],
   "source": [
    "#ajusto los parametros para Arbol de decision \n",
    "from sklearn.model_selection import GridSearchCV\n",
    "tree_classifier= DecisionTreeClassifier()\n",
    "params={\n",
    "'criterion':[\"gini\",\"entropy\"], \n",
    "'splitter':[\"best\",\"random\"], \n",
    "'max_depth':['None','int','2','3'], \n",
    "'min_samples_split':[2],\n",
    "'min_samples_leaf':[1], \n",
    "'min_weight_fraction_leaf':[0], \n",
    "'max_features':['auto','sqrt','log2'], \n",
    "'random_state':['None','int','RandomState_instance'],\n",
    "'max_leaf_nodes':['None','int'],\n",
    "'min_impurity_decrease':[0], \n",
    "'min_impurity_split':['None'], \n",
    "'class_weight':['None','dict','balanced'],\n",
    "'ccp_alpha':[0,'non-negative_float'],\n",
    "}\n",
    "grid_tree=GridSearchCV(estimator=tree_classifier,\n",
    "    param_grid=params,\n",
    "    scoring='neg_mean_absolute_error',\n",
    "    verbose=1,\n",
    "    n_jobs=-1\n",
    ")\n"
   ]
  },
  {
   "cell_type": "code",
   "execution_count": null,
   "metadata": {},
   "outputs": [],
   "source": [
    "# Comparamos los modelos usando el error medio cuadratico\n",
    "from sklearn.metrics import mean_squared_error\n",
    "modelo=[linear_model,tree_classifier,knn_regressor,random_forest]\n",
    "resultado=[]\n",
    "for i in modelo:\n",
    "  curr=i\n",
    "  curr.fit(X_train_np,y_train_np)\n",
    "  y_pred=curr.predict(X_test_np)\n",
    "  resultado=resultado+[mean_squared_error(y_test_np,y_pred)]\n",
    "  \n",
    "result=pd.DataFrame([])\n",
    "result['modelo']=['linear_model','tree_classifier','knn_regressor','random_forest']\n",
    "result['resultado']=resultado"
   ]
  },
  {
   "cell_type": "code",
   "execution_count": null,
   "metadata": {},
   "outputs": [],
   "source": [
    "result.sort_values('resultado')"
   ]
  },
  {
   "cell_type": "markdown",
   "metadata": {},
   "source": [
    "Conclusion=Segun el analisis  realizado el mejor modelo a utilizar es el random forestm regresion lineal, y arbol de decision"
   ]
  },
  {
   "cell_type": "markdown",
   "metadata": {
    "id": "aA_Lv9Mu3k1g"
   },
   "source": [
    "Analisis Modelo de arbol y Random Forest"
   ]
  },
  {
   "cell_type": "code",
   "execution_count": null,
   "metadata": {
    "id": "5Io9fmAYygSD"
   },
   "outputs": [],
   "source": [
    "X,y=Tabla_Features_df,Target"
   ]
  },
  {
   "cell_type": "code",
   "execution_count": null,
   "metadata": {},
   "outputs": [],
   "source": [
    "X,y=Tabla_Features_df,Target\n",
    "X_train, X_test, y_train, y_test = train_test_split(X, y, test_size=0.30, random_state=42) "
   ]
  },
  {
   "cell_type": "code",
   "execution_count": null,
   "metadata": {},
   "outputs": [],
   "source": [
    "#escalamos  las variables\n",
    "from sklearn.preprocessing import StandardScaler\n",
    "sc = StandardScaler()"
   ]
  },
  {
   "cell_type": "code",
   "execution_count": null,
   "metadata": {},
   "outputs": [],
   "source": [
    "X= sc.fit_transform(X)\n"
   ]
  },
  {
   "cell_type": "code",
   "execution_count": null,
   "metadata": {
    "id": "CfbDzXWhXpEa"
   },
   "outputs": [],
   "source": [
    "from sklearn.model_selection import train_test_split #Importamos la libreria para separar en train y test\n",
    "\n",
    "#Me quedo con 30% para test y 70% para train\n",
    "X_train, X_test, y_train, y_test = train_test_split(X, y, test_size=0.30, random_state=42) "
   ]
  },
  {
   "cell_type": "code",
   "execution_count": null,
   "metadata": {
    "id": "BaimY4RJYK-a"
   },
   "outputs": [],
   "source": [
    "from sklearn.tree import DecisionTreeClassifier #Importamos el modelo\n",
    "tree =tree_classifier #Creamos el modelo"
   ]
  },
  {
   "cell_type": "code",
   "execution_count": null,
   "metadata": {
    "colab": {
     "base_uri": "https://localhost:8080/"
    },
    "id": "RjBu_CXzYPfi",
    "outputId": "ee7753d1-7831-4b57-b07e-1ff02def1275"
   },
   "outputs": [],
   "source": [
    "#Entrenamos el modelo\n",
    "tree.fit(X_train,y_train) #Entrenamos el modelo"
   ]
  },
  {
   "cell_type": "code",
   "execution_count": null,
   "metadata": {
    "id": "7pR5VExVYa5E"
   },
   "outputs": [],
   "source": [
    "y_train_pred = tree.predict(X_train) #Prediccion en Train\n",
    "y_test_pred = tree.predict(X_test) #Prediccion en Test"
   ]
  },
  {
   "cell_type": "code",
   "execution_count": null,
   "metadata": {
    "colab": {
     "base_uri": "https://localhost:8080/"
    },
    "id": "gcNzE28sYpvy",
    "outputId": "e833d51a-8840-4d4b-c025-067c208af23f"
   },
   "outputs": [],
   "source": [
    "from sklearn.metrics import accuracy_score\n",
    "\n",
    "#Calculo el accuracy en Train\n",
    "train_accuracy = accuracy_score(y_train, y_train_pred)\n",
    "\n",
    "#Calculo el accuracy en Test\n",
    "test_accuracy = accuracy_score(y_test, y_test_pred)\n",
    "\n",
    "print('% de aciertos sobre el set de entrenamiento:', train_accuracy)\n",
    "print('% de aciertos sobre el set de evaluación:',test_accuracy)"
   ]
  },
  {
   "cell_type": "code",
   "execution_count": null,
   "metadata": {},
   "outputs": [],
   "source": [
    "import matplotlib.pyplot as plt\n",
    "from sklearn.metrics import confusion_matrix\n",
    "from sklearn.metrics import plot_confusion_matrix\n",
    "\n",
    "#Matriz de Confusión\n",
    "print(confusion_matrix(y_test, y_test_pred))\n",
    "\n",
    "#Ploteamos la Matriz\n",
    "plot_confusion_matrix(tree,X_test, y_test)\n",
    "plt.show()"
   ]
  },
  {
   "cell_type": "code",
   "execution_count": null,
   "metadata": {},
   "outputs": [],
   "source": [
    "grid_rf.best_estimator_"
   ]
  },
  {
   "cell_type": "markdown",
   "metadata": {
    "id": "TLbDbv22bumV"
   },
   "source": [
    "Randomforest"
   ]
  },
  {
   "cell_type": "markdown",
   "metadata": {},
   "source": []
  },
  {
   "cell_type": "code",
   "execution_count": null,
   "metadata": {
    "id": "927m3Sy-bjzw"
   },
   "outputs": [],
   "source": [
    "from sklearn.ensemble import RandomForestClassifier\n",
    "import urllib.request"
   ]
  },
  {
   "cell_type": "markdown",
   "metadata": {
    "id": "C0rmMlFybi6b"
   },
   "source": []
  },
  {
   "cell_type": "code",
   "execution_count": null,
   "metadata": {},
   "outputs": [],
   "source": [
    "X,y=Tabla_Features_df,Target\n",
    "X_train, X_test, y_train, y_test = train_test_split(X, y, test_size=0.30, random_state=42) "
   ]
  },
  {
   "cell_type": "code",
   "execution_count": null,
   "metadata": {
    "colab": {
     "base_uri": "https://localhost:8080/"
    },
    "id": "xc0oLzEPcVw8",
    "outputId": "6e263929-3bde-4f5a-a7e2-ebf773f49fe7"
   },
   "outputs": [],
   "source": [
    "model = random_forest\n",
    "model.fit(X_train, y_train)"
   ]
  },
  {
   "cell_type": "code",
   "execution_count": null,
   "metadata": {
    "id": "rqL0ubjhcugN"
   },
   "outputs": [],
   "source": [
    "Predictions = model.predict(X_test) #Prediccion en Test"
   ]
  },
  {
   "cell_type": "code",
   "execution_count": null,
   "metadata": {
    "colab": {
     "base_uri": "https://localhost:8080/"
    },
    "id": "mq6rOrIIcxzK",
    "outputId": "f920132c-a1a5-4755-8b7a-a32f98985269"
   },
   "outputs": [],
   "source": [
    "#Calculo el accuracy en Test\n",
    "test_accuracy = accuracy_score(y_test, y_test_pred)\n",
    "\n",
    "print('% de aciertos sobre el set de evaluación:',test_accuracy)"
   ]
  },
  {
   "cell_type": "markdown",
   "metadata": {
    "id": "2QAJy2SPMQWy"
   },
   "source": [
    "La diferencia no es siginificativa respecto al arbol de decision, por lo tanto elegimos el argoritmo de arbol de decision"
   ]
  },
  {
   "cell_type": "markdown",
   "metadata": {},
   "source": [
    "Matriz de Confusión"
   ]
  },
  {
   "cell_type": "code",
   "execution_count": null,
   "metadata": {},
   "outputs": [],
   "source": [
    "import matplotlib.pyplot as plt\n",
    "from sklearn.metrics import confusion_matrix\n",
    "from sklearn.metrics import plot_confusion_matrix\n",
    "\n",
    "#Matriz de Confusión\n",
    "print(confusion_matrix(y_test, Predictions))\n",
    "\n",
    "#Ploteamos la Matriz\n",
    "plot_confusion_matrix(model,X_test, y_test)\n",
    "plt.show()"
   ]
  },
  {
   "cell_type": "code",
   "execution_count": null,
   "metadata": {},
   "outputs": [],
   "source": [
    "from sklearn.metrics import precision_score\n",
    "from sklearn.metrics import recall_score\n",
    "from sklearn.metrics import f1_score\n",
    "\n",
    "print(f\"Precision Score of the classifier is: {precision_score(y_test, Predictions)}\")\n",
    "print(f\"Recall Score of the classifier is: {recall_score(y_test, Predictions)}\")\n",
    "print(f\"F1 Score of the classifier is: {f1_score(y_test, Predictions)}\")"
   ]
  },
  {
   "cell_type": "markdown",
   "metadata": {},
   "source": [
    "Curva Roc"
   ]
  },
  {
   "cell_type": "code",
   "execution_count": null,
   "metadata": {},
   "outputs": [],
   "source": [
    "#Template CURVA - ROC\n",
    "\n",
    "from sklearn.metrics import roc_curve, auc\n",
    "\n",
    "#class_probabilities = model.predict_proba(X_test)\n",
    "#preds = class_probabilities[:, 1]\n",
    "\n",
    "#fpr, tpr, threshold = roc_curve(y_test, preds)\n",
    "#roc_auc = auc(fpr, tpr)\n",
    "\n",
    "# AUC\n",
    "#rint(f\"AUC for our classifier is: {roc_auc}\")"
   ]
  },
  {
   "cell_type": "code",
   "execution_count": null,
   "metadata": {},
   "outputs": [],
   "source": [
    "# Gráfica de la Curva ROC\n",
    "plt.title('Roc Random Forest')\n",
    "plt.plot(fpr, tpr, 'b', label = 'AUC = %0.2f' % roc_auc)\n",
    "plt.legend(loc = 'lower right')\n",
    "plt.plot([0, 1], [0, 1],'r--')\n",
    "plt.xlim([0, 1])\n",
    "plt.ylim([0, 1])\n",
    "plt.ylabel('True Positive Rate')\n",
    "plt.xlabel('False Positive Rate')\n",
    "plt.show()"
   ]
  },
  {
   "cell_type": "markdown",
   "metadata": {},
   "source": [
    "Modelo de Regresion Lineal"
   ]
  },
  {
   "cell_type": "code",
   "execution_count": null,
   "metadata": {},
   "outputs": [],
   "source": [
    "X,y=Tabla_Features_df,Target\n",
    "X_train, X_test, y_train, y_test = train_test_split(X, y, test_size=0.30, random_state=42) "
   ]
  },
  {
   "cell_type": "code",
   "execution_count": null,
   "metadata": {},
   "outputs": [],
   "source": [
    "#Entrenamiento del modelo\n",
    "from sklearn.linear_model import LinearRegression\n",
    "regressor = linear_model\n",
    "regressor.fit(X_train, y_train)"
   ]
  },
  {
   "cell_type": "code",
   "execution_count": null,
   "metadata": {},
   "outputs": [],
   "source": []
  },
  {
   "cell_type": "code",
   "execution_count": null,
   "metadata": {},
   "outputs": [],
   "source": []
  }
 ],
 "metadata": {
  "colab": {
   "collapsed_sections": [
    "hYDFGzefOT_S",
    "obC5c69qdrky"
   ],
   "name": "Practico final v2.ipynb",
   "provenance": []
  },
  "kernelspec": {
   "display_name": "Python 3 (ipykernel)",
   "language": "python",
   "name": "python3"
  },
  "language_info": {
   "codemirror_mode": {
    "name": "ipython",
    "version": 3
   },
   "file_extension": ".py",
   "mimetype": "text/x-python",
   "name": "python",
   "nbconvert_exporter": "python",
   "pygments_lexer": "ipython3",
   "version": "3.9.7"
  }
 },
 "nbformat": 4,
 "nbformat_minor": 1
}
